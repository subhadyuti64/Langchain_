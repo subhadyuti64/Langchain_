{
 "cells": [
  {
   "cell_type": "code",
   "execution_count": 2,
   "id": "f63f2aa0",
   "metadata": {},
   "outputs": [
    {
     "name": "stdout",
     "output_type": "stream",
     "text": [
      "Note: you may need to restart the kernel to use updated packages.\n"
     ]
    }
   ],
   "source": [
    "# Use a pipeline as a high-level helper\n",
    "%pip install tf-keras --quiet\n"
   ]
  },
  {
   "cell_type": "code",
   "execution_count": 3,
   "id": "8b30365e",
   "metadata": {},
   "outputs": [
    {
     "name": "stderr",
     "output_type": "stream",
     "text": [
      "Device set to use mps:0\n"
     ]
    }
   ],
   "source": [
    "from transformers import pipeline\n",
    "\n",
    "pipe = pipeline(\"text2text-generation\", model=\"google/flan-t5-small\")"
   ]
  },
  {
   "cell_type": "code",
   "execution_count": 4,
   "id": "c7dff00b",
   "metadata": {},
   "outputs": [],
   "source": [
    "# Load model directly\n",
    "from transformers import AutoTokenizer, AutoModelForSeq2SeqLM\n",
    "\n",
    "tokenizer = AutoTokenizer.from_pretrained(\"google/flan-t5-small\")\n",
    "model = AutoModelForSeq2SeqLM.from_pretrained(\"google/flan-t5-small\")"
   ]
  },
  {
   "cell_type": "code",
   "execution_count": 11,
   "id": "06949d95",
   "metadata": {},
   "outputs": [],
   "source": [
    "output = 'Severe'"
   ]
  },
  {
   "cell_type": "code",
   "execution_count": 12,
   "id": "cfbb7804",
   "metadata": {},
   "outputs": [
    {
     "name": "stderr",
     "output_type": "stream",
     "text": [
      "Both `max_new_tokens` (=256) and `max_length`(=700) seem to have been set. `max_new_tokens` will take precedence. Please refer to the documentation for more information. (https://huggingface.co/docs/transformers/main/en/main_classes/text_generation)\n"
     ]
    },
    {
     "name": "stdout",
     "output_type": "stream",
     "text": [
      "Severe Diabetic Retinopathy is an advanced stage of diabetic eye disease, where significant damage to the retina occurs, leading to a high risk of vision loss. Causes:Prolonged high blood glucose levels associated with diabetes cause extensive damage to the small blood vessels in the retina. These damaged vessels may leak fluid, bleed, or become blocked, leading to severe retinal dysfunction. Poor control of blood pressure and cholesterol further increases the risk.\n"
     ]
    }
   ],
   "source": [
    "if output == 'Moderate':\n",
    "    input_text = (\n",
    "            '''Moderate Diabetic Retinopathy is a middle stage of diabetic eye disease, where damage to the retina from high blood sugar levels begins to become more noticeable and concerning, though it has not yet reached a vision-threatening stage like proliferative retinopathy.\n",
    "        Causes:Prolonged high blood glucose levels associated with diabetes damage the small blood vessels in the retina.\n",
    "        These damaged vessels may swell, leak fluid, or bleed, disrupting normal retinal function.\n",
    "        Poor control of blood pressure and cholesterol further increases the risk.\n",
    "        Symptoms:\n",
    "        Often no obvious symptoms in early stages, but as the disease progresses:\n",
    "        Blurry or distorted vision\n",
    "        Dark spots or floaters in the field of vision\n",
    "        Difficulty seeing at night\n",
    "        Color vision changes\n",
    "        Symptoms may come and go, making regular eye exams essential.\n",
    "        Importance of Detection:\n",
    "        Early detection through routine eye exams and good diabetes management can slow or halt the progression to severe stages, which could lead to permanent vision loss.\n",
    "        Write a detailed summary about moderate Diabetic retinopathy.'''\n",
    "    )\n",
    "\n",
    "    result = pipe(\n",
    "        input_text,\n",
    "        max_length=700,      # Increase max_length for longer output\n",
    "        temperature=0.1,     # Optional: add some creativity\n",
    "        do_sample=True       # Optional: enable sampling for varied output\n",
    "    )\n",
    "    print(result[0]['generated_text'])\n",
    "    \n",
    "elif output == 'Severe':\n",
    "    input_text = (\n",
    "            '''Severe Diabetic Retinopathy is an advanced stage of diabetic eye disease, where significant damage to the retina occurs, leading to a high risk of vision loss.\n",
    "        Causes:Prolonged high blood glucose levels associated with diabetes cause extensive damage to the small blood vessels in the retina.\n",
    "        These damaged vessels may leak fluid, bleed, or become blocked, leading to severe retinal dysfunction.\n",
    "        Poor control of blood pressure and cholesterol further increases the risk.\n",
    "        Symptoms:\n",
    "        Sudden vision changes, including:\n",
    "        Severe blurry or distorted vision\n",
    "        Dark spots or floaters in the field of vision\n",
    "        Sudden loss of vision\n",
    "        Difficulty seeing at night\n",
    "        Color vision changes\n",
    "        Symptoms may appear suddenly and require immediate medical attention.\n",
    "        Importance of Detection:\n",
    "        Early detection through routine eye exams and good diabetes management is crucial to prevent progression to proliferative retinopathy, which can lead to permanent vision loss.\n",
    "        Write a detailed summary about severe Diabetic retinopathy.'''\n",
    "    )\n",
    "\n",
    "    result = pipe(\n",
    "        input_text,\n",
    "        max_length=700,      # Increase max_length for longer output\n",
    "        temperature=0.1,     # Optional: add some creativity\n",
    "        do_sample=True       # Optional: enable sampling for varied output\n",
    "    )\n",
    "    print(result[0]['generated_text'])\n",
    "    \n",
    "elif output == 'Proliferative':\n",
    "    input_text = (\n",
    "            '''Proliferative Diabetic Retinopathy is the most advanced stage of diabetic eye disease, characterized by the growth of new, abnormal blood vessels in the retina, which can lead to severe vision loss or blindness.\n",
    "        Causes:Prolonged high blood glucose levels associated with diabetes cause extensive damage to the small blood vessels in the retina.\n",
    "        These damaged vessels may leak fluid, bleed, or become blocked, leading to severe retinal dysfunction.\n",
    "        Poor control of blood pressure and cholesterol further increases the risk.\n",
    "        Symptoms:\n",
    "        Sudden vision changes, including:\n",
    "        Severe blurry or distorted vision\n",
    "        Dark spots or floaters in the field of vision\n",
    "        Sudden loss of vision\n",
    "        Difficulty seeing at night\n",
    "        Color vision changes\n",
    "        Symptoms may appear suddenly and require immediate medical attention.\n",
    "        Importance of Detection:\n",
    "        Early detection through routine eye exams and good diabetes management is crucial to prevent progression to proliferative retinopathy, which can lead to permanent vision loss.\n",
    "        Write a detailed summary about proliferative Diabetic retinopathy.'''\n",
    "    )\n",
    "\n",
    "    result = pipe(\n",
    "        input_text,\n",
    "        max_length=700,      # Increase max_length for longer output\n",
    "        temperature=0.1,     # Optional: add some creativity\n",
    "        do_sample=True       # Optional: enable sampling for varied output\n",
    "    )\n",
    "    print(result[0]['generated_text'])"
   ]
  },
  {
   "cell_type": "code",
   "execution_count": 6,
   "id": "f707e40c",
   "metadata": {},
   "outputs": [
    {
     "name": "stderr",
     "output_type": "stream",
     "text": [
      "Both `max_new_tokens` (=256) and `max_length`(=700) seem to have been set. `max_new_tokens` will take precedence. Please refer to the documentation for more information. (https://huggingface.co/docs/transformers/main/en/main_classes/text_generation)\n"
     ]
    },
    {
     "name": "stdout",
     "output_type": "stream",
     "text": [
      "Moderate Diabetic Retinopathy is a middle stage of diabetic eye disease, where damage to the retina from high blood sugar levels begins to become more noticeable and concerning, though it has not yet reached a vision-threatening stage like proliferative retinopathy.\n"
     ]
    }
   ],
   "source": [
    "# Request a detailed summary about moderate Diabetic retinopathy\n",
    "\n",
    "input_text = (\n",
    "        '''Moderate Diabetic Retinopathy is a middle stage of diabetic eye disease, where damage to the retina from high blood sugar levels begins to become more noticeable and concerning, though it has not yet reached a vision-threatening stage like proliferative retinopathy.\n",
    "    Causes:Prolonged high blood glucose levels associated with diabetes damage the small blood vessels in the retina.\n",
    "    These damaged vessels may swell, leak fluid, or bleed, disrupting normal retinal function.\n",
    "    Poor control of blood pressure and cholesterol further increases the risk.\n",
    "    Symptoms:\n",
    "    Often no obvious symptoms in early stages, but as the disease progresses:\n",
    "    Blurry or distorted vision\n",
    "    Dark spots or floaters in the field of vision\n",
    "    Difficulty seeing at night\n",
    "    Color vision changes\n",
    "    Symptoms may come and go, making regular eye exams essential.\n",
    "    Importance of Detection:\n",
    "    Early detection through routine eye exams and good diabetes management can slow or halt the progression to severe stages, which could lead to permanent vision loss.\n",
    "    Write a detailed summary about moderate Diabetic retinopathy.'''\n",
    ")\n",
    "\n",
    "result = pipe(\n",
    "    input_text,\n",
    "    max_length=700,      # Increase max_length for longer output\n",
    "    temperature=0.1,     # Optional: add some creativity\n",
    "    do_sample=True       # Optional: enable sampling for varied output\n",
    ")\n",
    "print(result[0]['generated_text'])"
   ]
  },
  {
   "cell_type": "code",
   "execution_count": null,
   "id": "02f480db",
   "metadata": {},
   "outputs": [],
   "source": [
    "'''Moderate Diabetic Retinopathy is a middle stage of diabetic eye disease, where damage to the retina from high blood sugar levels begins to become more noticeable and concerning, though it has not yet reached a vision-threatening stage like proliferative retinopathy.\n",
    "Causes:Prolonged high blood glucose levels associated with diabetes damage the small blood vessels in the retina.\n",
    "These damaged vessels may swell, leak fluid, or bleed, disrupting normal retinal function.\n",
    "Poor control of blood pressure and cholesterol further increases the risk.\n",
    "Symptoms:\n",
    "Often no obvious symptoms in early stages, but as the disease progresses:\n",
    "Blurry or distorted vision\n",
    "Dark spots or floaters in the field of vision\n",
    "Difficulty seeing at night\n",
    "Color vision changes\n",
    "Symptoms may come and go, making regular eye exams essential.\n",
    "Importance of Detection:\n",
    "Early detection through routine eye exams and good diabetes management can slow or halt the progression to severe stages, which could lead to permanent vision loss.\n",
    "Write a detailed summary about moderate Diabetic retinopathy.'''"
   ]
  }
 ],
 "metadata": {
  "kernelspec": {
   "display_name": "base",
   "language": "python",
   "name": "python3"
  },
  "language_info": {
   "codemirror_mode": {
    "name": "ipython",
    "version": 3
   },
   "file_extension": ".py",
   "mimetype": "text/x-python",
   "name": "python",
   "nbconvert_exporter": "python",
   "pygments_lexer": "ipython3",
   "version": "3.12.7"
  }
 },
 "nbformat": 4,
 "nbformat_minor": 5
}
