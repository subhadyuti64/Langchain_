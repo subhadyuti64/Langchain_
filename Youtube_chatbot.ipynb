{
 "cells": [
  {
   "cell_type": "code",
   "execution_count": 1,
   "id": "48057569",
   "metadata": {},
   "outputs": [
    {
     "name": "stdout",
     "output_type": "stream",
     "text": [
      "Collecting youtube_transcript_api\n",
      "  Downloading youtube_transcript_api-1.1.0-py3-none-any.whl.metadata (23 kB)\n",
      "Requirement already satisfied: defusedxml<0.8.0,>=0.7.1 in /opt/anaconda3/lib/python3.12/site-packages (from youtube_transcript_api) (0.7.1)\n",
      "Requirement already satisfied: requests in /opt/anaconda3/lib/python3.12/site-packages (from youtube_transcript_api) (2.32.3)\n",
      "Requirement already satisfied: charset-normalizer<4,>=2 in /opt/anaconda3/lib/python3.12/site-packages (from requests->youtube_transcript_api) (3.3.2)\n",
      "Requirement already satisfied: idna<4,>=2.5 in /opt/anaconda3/lib/python3.12/site-packages (from requests->youtube_transcript_api) (3.7)\n",
      "Requirement already satisfied: urllib3<3,>=1.21.1 in /opt/anaconda3/lib/python3.12/site-packages (from requests->youtube_transcript_api) (2.2.3)\n",
      "Requirement already satisfied: certifi>=2017.4.17 in /opt/anaconda3/lib/python3.12/site-packages (from requests->youtube_transcript_api) (2025.4.26)\n",
      "Downloading youtube_transcript_api-1.1.0-py3-none-any.whl (485 kB)\n",
      "Installing collected packages: youtube_transcript_api\n",
      "Successfully installed youtube_transcript_api-1.1.0\n",
      "Note: you may need to restart the kernel to use updated packages.\n"
     ]
    }
   ],
   "source": [
    "pip install youtube_transcript_api"
   ]
  },
  {
   "cell_type": "code",
   "execution_count": 18,
   "id": "91422560",
   "metadata": {},
   "outputs": [],
   "source": [
    "from youtube_transcript_api import YouTubeTranscriptApi, TranscriptsDisabled\n",
    "from langchain.text_splitter import RecursiveCharacterTextSplitter\n",
    "from langchain_google_genai import GoogleGenerativeAIEmbeddings,ChatGoogleGenerativeAI\n",
    "from langchain_community.vectorstores import FAISS\n",
    "from langchain_core.prompts import PromptTemplate\n",
    "import os"
   ]
  },
  {
   "cell_type": "code",
   "execution_count": 5,
   "id": "4aebad9e",
   "metadata": {},
   "outputs": [
    {
     "name": "stdout",
     "output_type": "stream",
     "text": [
      "well I've never been asked to do a net on top of a roof before oh there we go who doesn't come in here oh wow straight in it's full I really want to make him angry as many places that's good yet that will make him angry yes guys welcome back to the channel today we're filming a very special episode of fastest to 50 with the one and only Ben Stokes that's right we're on the rooftop of Red Bull here in London what'd you make of this uh well I've never been us to do a net on top of a roof before so yeah move for a treat I think fantastic pretty confident uh yeah well it's what is it you know it should be taking this on I should be taking this Victory home against you too so I did see your efforts last time against broady so I'm not too worried now fair enough fair enough all right good luck Cheers Cheers right Ben is up there to the crease to score 50 as quickly as possible will be deciding the scores based on a theoretical field which we discussed beforehand our four fielders outs are long on deep Square Third Man and Deep Cover right here we go full one fastest to 50 States yes one that's four oh three balls come yeah five on the board shot six six yeah [Music] there's a bit of moving on this rooftop it's very windy would you give him that one or two I'll take two yeah that's great coaching that is what landmark is that hit they're taking out the crane one one just a one for that one is it moving a bit yeah okay it's interesting and we give it a go off shot oh it's gone I'll let you I'll let you be just let's go to the point forgivable yeah shots or again I'll take one take one yeah let's trade it cover straight it's okay no one in my team is stopping that that's full let's go two there yeah oh you cover one one it's dropped before him oh four four ones easy that's big that's big that's huge then how far is that gone doesn't matter it's only six in it what's the biggest six you've ever hit Ben I reckon the one I hit last year at Trent Bridge off bracewell yeah the one that was nowhere near the pitch of the ball there goes far 120 meters 130 definitely over 100. seriously good shot I really want to make him angry that's when he plays his best cricket oh no wonder why look at it it's got no dimples on it [Music] oh there we go okay that's the biggest things ever 18 balls for Ben Stokes fastest to 50. this man is a legend yeah time for us to give it a go I'm worried and that's because that is seriously impressive on this balls are flying everywhere in the wind yeah skidding on some of them are full so yeah that's impressive he has made that look very easy absolutely good luck yeah dude how you feeling yeah I'm nervous I'm just worried about how easy Ben made that look I've had one side turn it all over the shop uh field I'll go fall out again he loves cab calling yeah I'm gonna so these two are both up okay if you want to ramp it fair enough I'll give you a clap if you do that it's not that I'm trying to get in your head or anything go along on Long off no long office up actually so normal mid-off long on Cal Corner deep cover deep square and where are you putting your best fielder in the team uh best Builders always at Cal corner right then CJ's out there okay I'll be I'll be firm but fair as well all right I like it feels set let's give it a go Jack's got to be 18 balls oh well left there's a start come on [Laughter] Colin that's not a good start yeah that's gone well that's still the Deep Cover didn't know where it was so you got to two runs on the ball three balls gone shots split them yeah there's four runs take that runs oh yeah it's nice not quite nice yeah that's the short side there you go six rounds like that oh wow how was that connection I feel quite felt good yeah thanks for that there you go back to back let's imagine we're playing a lovely Tiny Village ground yeah Tiny Village cricket ground and you can be playing it somewhere huge come on Cal call Corner get round one two one or two one you have a single now Jason Roy is out there yeah okay okay remember the fine leg and third manner up yeah yeah it is yeah yeah you've got three men to get over on the leg side please ask Joe root steps out first ball of day four and goes to reverse ramp yeah what was said I didn't have it on my radar to be honest he's going to play the shot when he's in but I did not have him doing it first ball of the day it's incredible they actually just laughed yeah it was yeah it was mud I've tried to keep my head down and was ducked into it and the first ball of the test is actually hits the four through cover I was in The Hollies for that yeah it was like a football ground oh here we go oh I love it great effort Jack Shane dot more and I saw your reaction to that yeah it was mad it was because of the last series completely opposite yeah it's a great shot that Jack six runs yeah it's not feeling too bad I just need to keep connecting that's a lovely shot what are you saying for that though have you got another one out I've got long long off so long how straight was that four it's a great shot then it is in his head rent free swim all that or cloth I think singles I reckon you can go single you've like you know when you're hitting the air and you're like oh we're out here but he just dropped the dolly again yeah take four there all right yeah getting some bat on here oh yeah just one bat away from four there but remember every time you miss it the double keep going mate keep going 4 38 . it's another cover's ass cover up covers out covers out yeah just probably two maybe this is the way to play rather than just now yeah you're right nah again sample one shot well played two again yeah two again come on it's only quite well cloud cover yeah following Jimmy Geez this is quite odd oh he's he's done some in here it's not easy to be fair on a rooftop but the building side is a side screen oh my God it's gone before I know it's hard [Applause] yeah good effort tricky conditions yeah job done 27 balls that is tough some reason there a couple of balls just absolute seeds out of nowhere so yeah that's really hard Ben made that look very very easy [Music] right after a quick break filming a few tick tocks on Red Bull's Channel make sure you go and check that out it's time for me to have a go at fastest to 50. I think Ben only took 18 balls ridiculous and it's pretty difficult up here you were 27 and that was hard work so that's a lot cheers let's give it a go okay yeah cool oh wow [Laughter] they never go twice though love that it's a good shot for one yeah yeah what how many balls we need 27. disappointing oh that is smoked one again though you see they either get finer or swearer yeah oh he's got bow in it but is that that's gonna be once a short time just what I was gonna give you two definitely shot single so The Hollies is going mental right now there's the wind oh Jimmy there's a wind is that dot wall or you're running there yeah Jimmy can't feel shot shot again two no so lucky it's only one though yeah it does it's just one oh if you stick that yeah is that four out Toby are you saying foreign is that fine enough that it's six you're like uh because you've just gone with a very short boundary for six but okay come for them two that's nice oh yeah one bounce you need to see a bit more commitment oh I closed it in the gap for two no two oh you dropped it's gone over Point yeah it's one of those okay two run two I like it now one and so you've got no one out no one is out yeah but you just keep playing nice pretty cover drives for one that's fine oh my gosh we gave him four before I reckon we get one back there that's out mine is fine no it's just stop ball oh my God has he got the Gap yeah he's the Gap but it does that's not run away I think two two yeah or guided I like that it's a gap look no that's a DOT ball straight to point what is that I love the idea pie oh that might be one are you up for the game and for the content six come on come on fives come on Toby send it oh that's a shame it's another pretty Cover Drive for one wind is up oh that's nice say that to finish the game yeah take that hold on enjoying the little Scoops as well looks good so much your time really appreciate it and then best of luck in the rest of the ashes appreciate it a lot cheers and congratulations thank you winner so there we have it Ben moves to second place in the fastest to 50 overall leaderboard comment below with which player you want to see take on this challenge next thank you\n"
     ]
    }
   ],
   "source": [
    "# NTnDcEcp9Vs\n",
    "video_id = \"NTnDcEcp9Vs\"\n",
    "try:\n",
    "    transcript_list = YouTubeTranscriptApi.get_transcript(video_id, languages=[\"en\"])\n",
    "\n",
    "    transcript = \" \".join(chunk[\"text\"] for chunk in transcript_list)\n",
    "    print(transcript)\n",
    "\n",
    "except TranscriptsDisabled:\n",
    "    print(\"No captions available for this video.\")"
   ]
  },
  {
   "cell_type": "code",
   "execution_count": 6,
   "id": "2b6b2f8c",
   "metadata": {},
   "outputs": [
    {
     "data": {
      "text/plain": [
       "[{'text': \"well I've never been\", 'start': 0.0, 'duration': 3.84},\n",
       " {'text': 'asked to do a net on top of a roof',\n",
       "  'start': 1.8,\n",
       "  'duration': 6.26},\n",
       " {'text': 'before oh there we go', 'start': 3.84, 'duration': 4.22},\n",
       " {'text': \"who doesn't come in here\", 'start': 11.58, 'duration': 6.66},\n",
       " {'text': \"oh wow straight in it's full I really\",\n",
       "  'start': 14.599,\n",
       "  'duration': 4.841},\n",
       " {'text': 'want to make him angry as many places',\n",
       "  'start': 18.24,\n",
       "  'duration': 2.84},\n",
       " {'text': \"that's good yet\", 'start': 19.44, 'duration': 5.36},\n",
       " {'text': 'that will make him angry', 'start': 21.08, 'duration': 3.72},\n",
       " {'text': 'yes guys welcome back to the channel',\n",
       "  'start': 24.96,\n",
       "  'duration': 2.7},\n",
       " {'text': \"today we're filming a very special\",\n",
       "  'start': 26.279,\n",
       "  'duration': 3.301},\n",
       " {'text': 'episode of fastest to 50 with the one',\n",
       "  'start': 27.66,\n",
       "  'duration': 3.72},\n",
       " {'text': \"and only Ben Stokes that's right we're\",\n",
       "  'start': 29.58,\n",
       "  'duration': 3.24},\n",
       " {'text': 'on the rooftop of Red Bull here in',\n",
       "  'start': 31.38,\n",
       "  'duration': 3.48},\n",
       " {'text': \"London what'd you make of this uh well\",\n",
       "  'start': 32.82,\n",
       "  'duration': 3.48},\n",
       " {'text': \"I've never been\", 'start': 34.86, 'duration': 3.66},\n",
       " {'text': 'us to do a net on top of a roof before',\n",
       "  'start': 36.3,\n",
       "  'duration': 4.14},\n",
       " {'text': 'so yeah move for a treat I think',\n",
       "  'start': 38.52,\n",
       "  'duration': 4.98},\n",
       " {'text': 'fantastic pretty confident uh yeah well',\n",
       "  'start': 40.44,\n",
       "  'duration': 5.1},\n",
       " {'text': \"it's what is it you know\", 'start': 43.5, 'duration': 3.48},\n",
       " {'text': 'it should be taking this on I should be',\n",
       "  'start': 45.54,\n",
       "  'duration': 2.699},\n",
       " {'text': 'taking this Victory home against you too',\n",
       "  'start': 46.98,\n",
       "  'duration': 3.36},\n",
       " {'text': 'so I did see your efforts last time',\n",
       "  'start': 48.239,\n",
       "  'duration': 3.48},\n",
       " {'text': \"against broady so I'm not too worried\",\n",
       "  'start': 50.34,\n",
       "  'duration': 3.3},\n",
       " {'text': 'now fair enough fair enough all right',\n",
       "  'start': 51.719,\n",
       "  'duration': 3.801},\n",
       " {'text': 'good luck Cheers Cheers', 'start': 53.64, 'duration': 4.5},\n",
       " {'text': 'right Ben is up there to the crease to',\n",
       "  'start': 55.52,\n",
       "  'duration': 5.019},\n",
       " {'text': 'score 50 as quickly as possible will be',\n",
       "  'start': 58.14,\n",
       "  'duration': 4.14},\n",
       " {'text': 'deciding the scores based on a',\n",
       "  'start': 60.539,\n",
       "  'duration': 3.601},\n",
       " {'text': 'theoretical field which we discussed',\n",
       "  'start': 62.28,\n",
       "  'duration': 4.08},\n",
       " {'text': 'beforehand our four fielders outs are',\n",
       "  'start': 64.14,\n",
       "  'duration': 4.2},\n",
       " {'text': 'long on deep Square Third Man and Deep',\n",
       "  'start': 66.36,\n",
       "  'duration': 3.6},\n",
       " {'text': 'Cover', 'start': 68.34, 'duration': 3.9},\n",
       " {'text': 'right here we go full one fastest to 50',\n",
       "  'start': 69.96,\n",
       "  'duration': 4.82},\n",
       " {'text': 'States', 'start': 72.24, 'duration': 2.54},\n",
       " {'text': 'yes one', 'start': 75.979, 'duration': 5.881},\n",
       " {'text': \"that's four\", 'start': 78.619, 'duration': 3.241},\n",
       " {'text': 'oh three balls come yeah five on the',\n",
       "  'start': 82.86,\n",
       "  'duration': 4.74},\n",
       " {'text': 'board', 'start': 86.28, 'duration': 5.519},\n",
       " {'text': 'shot six six yeah', 'start': 87.6, 'duration': 4.199},\n",
       " {'text': '[Music]', 'start': 93.73, 'duration': 3.189},\n",
       " {'text': \"there's a bit of moving on this rooftop\",\n",
       "  'start': 98.479,\n",
       "  'duration': 5.341},\n",
       " {'text': \"it's very windy\", 'start': 100.68, 'duration': 3.14},\n",
       " {'text': \"would you give him that one or two I'll\",\n",
       "  'start': 105.06,\n",
       "  'duration': 4.64},\n",
       " {'text': 'take two yeah', 'start': 106.86, 'duration': 2.84},\n",
       " {'text': \"that's great coaching that is what\",\n",
       "  'start': 112.52,\n",
       "  'duration': 4.12},\n",
       " {'text': \"landmark is that hit they're taking out\",\n",
       "  'start': 114.84,\n",
       "  'duration': 4.16},\n",
       " {'text': 'the crane', 'start': 116.64, 'duration': 2.36},\n",
       " {'text': 'one one just a one for that one is it',\n",
       "  'start': 120.86,\n",
       "  'duration': 6.119},\n",
       " {'text': 'moving a bit yeah okay', 'start': 123.6, 'duration': 3.379},\n",
       " {'text': \"it's interesting and we give it a go\",\n",
       "  'start': 127.14,\n",
       "  'duration': 5.34},\n",
       " {'text': \"off shot oh it's gone I'll let you I'll\",\n",
       "  'start': 129.959,\n",
       "  'duration': 4.021},\n",
       " {'text': \"let you be just let's go to the point\",\n",
       "  'start': 132.48,\n",
       "  'duration': 3.78},\n",
       " {'text': 'forgivable', 'start': 133.98, 'duration': 5.28},\n",
       " {'text': 'yeah', 'start': 136.26, 'duration': 3.0},\n",
       " {'text': \"shots or again I'll take one take one\",\n",
       "  'start': 139.4,\n",
       "  'duration': 6.16},\n",
       " {'text': \"yeah let's trade it cover straight it's\",\n",
       "  'start': 143.04,\n",
       "  'duration': 7.04},\n",
       " {'text': 'okay no one in my team is stopping that',\n",
       "  'start': 145.56,\n",
       "  'duration': 4.52},\n",
       " {'text': \"that's full\", 'start': 150.86, 'duration': 3.3},\n",
       " {'text': \"let's go two there yeah\", 'start': 157.16, 'duration': 6.46},\n",
       " {'text': 'oh you cover one one', 'start': 160.62, 'duration': 5.16},\n",
       " {'text': \"it's dropped before him\", 'start': 163.62, 'duration': 4.68},\n",
       " {'text': 'oh', 'start': 165.78, 'duration': 5.78},\n",
       " {'text': 'four four ones easy', 'start': 168.3, 'duration': 3.26},\n",
       " {'text': \"that's big that's big that's huge\",\n",
       "  'start': 173.72,\n",
       "  'duration': 5.92},\n",
       " {'text': 'then how far is that gone', 'start': 177.599, 'duration': 5.481},\n",
       " {'text': \"doesn't matter it's only six in it\",\n",
       "  'start': 179.64,\n",
       "  'duration': 3.44},\n",
       " {'text': \"what's the biggest six you've ever hit\",\n",
       "  'start': 184.68,\n",
       "  'duration': 3.0},\n",
       " {'text': 'Ben I reckon the one I hit last year at',\n",
       "  'start': 186.06,\n",
       "  'duration': 4.44},\n",
       " {'text': 'Trent Bridge off bracewell yeah the one',\n",
       "  'start': 187.68,\n",
       "  'duration': 4.5},\n",
       " {'text': 'that was nowhere near the pitch of the',\n",
       "  'start': 190.5,\n",
       "  'duration': 3.26},\n",
       " {'text': 'ball there goes far', 'start': 192.18, 'duration': 6.8},\n",
       " {'text': '120 meters 130 definitely over 100.',\n",
       "  'start': 193.76,\n",
       "  'duration': 5.22},\n",
       " {'text': 'seriously good shot I really want to',\n",
       "  'start': 199.04,\n",
       "  'duration': 3.4},\n",
       " {'text': \"make him angry that's when he plays his\",\n",
       "  'start': 201.42,\n",
       "  'duration': 3.38},\n",
       " {'text': 'best cricket', 'start': 202.44, 'duration': 2.36},\n",
       " {'text': \"oh no wonder why look at it it's got no\",\n",
       "  'start': 210.78,\n",
       "  'duration': 3.32},\n",
       " {'text': 'dimples on it', 'start': 212.7, 'duration': 4.42},\n",
       " {'text': '[Music]', 'start': 214.1, 'duration': 3.02},\n",
       " {'text': 'oh there we go okay', 'start': 219.0, 'duration': 3.799},\n",
       " {'text': \"that's the biggest things ever\",\n",
       "  'start': 223.739,\n",
       "  'duration': 3.201},\n",
       " {'text': '18 balls for Ben Stokes fastest to 50.',\n",
       "  'start': 229.159,\n",
       "  'duration': 4.961},\n",
       " {'text': 'this man is a legend yeah time for us to',\n",
       "  'start': 232.14,\n",
       "  'duration': 3.48},\n",
       " {'text': \"give it a go I'm worried and that's\",\n",
       "  'start': 234.12,\n",
       "  'duration': 3.72},\n",
       " {'text': 'because that is seriously impressive on',\n",
       "  'start': 235.62,\n",
       "  'duration': 3.839},\n",
       " {'text': 'this balls are flying everywhere in the',\n",
       "  'start': 237.84,\n",
       "  'duration': 3.539},\n",
       " {'text': 'wind yeah skidding on some of them are',\n",
       "  'start': 239.459,\n",
       "  'duration': 3.901},\n",
       " {'text': \"full so yeah that's impressive he has\",\n",
       "  'start': 241.379,\n",
       "  'duration': 3.78},\n",
       " {'text': 'made that look very easy absolutely good',\n",
       "  'start': 243.36,\n",
       "  'duration': 4.159},\n",
       " {'text': 'luck yeah', 'start': 245.159, 'duration': 2.36},\n",
       " {'text': \"dude how you feeling yeah I'm nervous\",\n",
       "  'start': 252.56,\n",
       "  'duration': 5.139},\n",
       " {'text': \"I'm just worried about how easy Ben made\",\n",
       "  'start': 255.599,\n",
       "  'duration': 4.801},\n",
       " {'text': \"that look I've had one side turn it\",\n",
       "  'start': 257.699,\n",
       "  'duration': 5.401},\n",
       " {'text': \"all over the shop uh field I'll go fall\",\n",
       "  'start': 260.4,\n",
       "  'duration': 5.579},\n",
       " {'text': \"out again he loves cab calling yeah I'm\",\n",
       "  'start': 263.1,\n",
       "  'duration': 5.76},\n",
       " {'text': 'gonna so these two are both up okay if',\n",
       "  'start': 265.979,\n",
       "  'duration': 4.681},\n",
       " {'text': \"you want to ramp it fair enough I'll\",\n",
       "  'start': 268.86,\n",
       "  'duration': 3.48},\n",
       " {'text': \"give you a clap if you do that it's not\",\n",
       "  'start': 270.66,\n",
       "  'duration': 2.58},\n",
       " {'text': \"that I'm trying to get in your head or\",\n",
       "  'start': 272.34,\n",
       "  'duration': 3.02},\n",
       " {'text': 'anything', 'start': 273.24, 'duration': 2.12},\n",
       " {'text': 'go along on Long off', 'start': 275.4, 'duration': 4.26},\n",
       " {'text': 'no long office up actually so normal',\n",
       "  'start': 278.1,\n",
       "  'duration': 4.44},\n",
       " {'text': 'mid-off long on Cal Corner deep cover',\n",
       "  'start': 279.66,\n",
       "  'duration': 5.22},\n",
       " {'text': 'deep square and where are you putting',\n",
       "  'start': 282.54,\n",
       "  'duration': 4.02},\n",
       " {'text': 'your best fielder in the team uh best',\n",
       "  'start': 284.88,\n",
       "  'duration': 4.2},\n",
       " {'text': 'Builders always at Cal corner right then',\n",
       "  'start': 286.56,\n",
       "  'duration': 4.74},\n",
       " {'text': \"CJ's out there okay I'll be I'll be firm\",\n",
       "  'start': 289.08,\n",
       "  'duration': 4.14},\n",
       " {'text': 'but fair as well all right I like it',\n",
       "  'start': 291.3,\n",
       "  'duration': 4.92},\n",
       " {'text': \"feels set let's give it a go Jack's got\",\n",
       "  'start': 293.22,\n",
       "  'duration': 7.02},\n",
       " {'text': \"to be 18 balls oh well left there's a\",\n",
       "  'start': 296.22,\n",
       "  'duration': 7.16},\n",
       " {'text': 'start come on', 'start': 300.24, 'duration': 3.14},\n",
       " {'text': '[Laughter]', 'start': 306.41, 'duration': 8.069},\n",
       " {'text': \"Colin that's not a good start\", 'start': 310.759, 'duration': 3.72},\n",
       " {'text': \"yeah that's gone well that's still the\",\n",
       "  'start': 315.24,\n",
       "  'duration': 4.14},\n",
       " {'text': \"Deep Cover didn't know where it was so\",\n",
       "  'start': 318.18,\n",
       "  'duration': 3.42},\n",
       " {'text': 'you got to two runs on the ball three',\n",
       "  'start': 319.38,\n",
       "  'duration': 3.84},\n",
       " {'text': 'balls gone', 'start': 321.6, 'duration': 2.819},\n",
       " {'text': 'shots', 'start': 323.22, 'duration': 3.78},\n",
       " {'text': \"split them yeah there's four runs take\",\n",
       "  'start': 324.419,\n",
       "  'duration': 3.981},\n",
       " {'text': 'that runs', 'start': 327.0, 'duration': 6.6},\n",
       " {'text': \"oh yeah it's nice not quite nice\",\n",
       "  'start': 328.4,\n",
       "  'duration': 8.28},\n",
       " {'text': \"yeah that's the short side there you go\",\n",
       "  'start': 333.6,\n",
       "  'duration': 6.92},\n",
       " {'text': 'six rounds like that', 'start': 336.68, 'duration': 3.84},\n",
       " {'text': 'oh wow how was that connection I feel',\n",
       "  'start': 342.78,\n",
       "  'duration': 4.68},\n",
       " {'text': 'quite felt good yeah thanks for that',\n",
       "  'start': 345.72,\n",
       "  'duration': 3.0},\n",
       " {'text': \"there you go back to back let's imagine\",\n",
       "  'start': 347.46,\n",
       "  'duration': 2.88},\n",
       " {'text': \"we're playing a lovely Tiny Village\",\n",
       "  'start': 348.72,\n",
       "  'duration': 3.3},\n",
       " {'text': 'ground yeah Tiny Village cricket ground',\n",
       "  'start': 350.34,\n",
       "  'duration': 6.02},\n",
       " {'text': 'and you can be playing it somewhere huge',\n",
       "  'start': 352.02,\n",
       "  'duration': 4.34},\n",
       " {'text': 'come on Cal call Corner get round one',\n",
       "  'start': 359.28,\n",
       "  'duration': 4.02},\n",
       " {'text': 'two one or two one you have a single now',\n",
       "  'start': 361.259,\n",
       "  'duration': 4.201},\n",
       " {'text': 'Jason Roy is out there yeah okay okay',\n",
       "  'start': 363.3,\n",
       "  'duration': 3.899},\n",
       " {'text': 'remember the fine leg and third manner',\n",
       "  'start': 365.46,\n",
       "  'duration': 4.5},\n",
       " {'text': \"up yeah yeah it is yeah yeah you've got\",\n",
       "  'start': 367.199,\n",
       "  'duration': 5.161},\n",
       " {'text': 'three men to get over on the leg side',\n",
       "  'start': 369.96,\n",
       "  'duration': 5.7},\n",
       " {'text': 'please ask Joe root steps out first ball',\n",
       "  'start': 372.36,\n",
       "  'duration': 5.16},\n",
       " {'text': 'of day four and goes to reverse ramp',\n",
       "  'start': 375.66,\n",
       "  'duration': 5.039},\n",
       " {'text': \"yeah what was said I didn't have it on\",\n",
       "  'start': 377.52,\n",
       "  'duration': 4.739},\n",
       " {'text': \"my radar to be honest he's going to play\",\n",
       "  'start': 380.699,\n",
       "  'duration': 2.881},\n",
       " {'text': \"the shot when he's in but I did not have\",\n",
       "  'start': 382.259,\n",
       "  'duration': 3.481},\n",
       " {'text': \"him doing it first ball of the day it's\",\n",
       "  'start': 383.58,\n",
       "  'duration': 3.959},\n",
       " {'text': 'incredible they actually just laughed',\n",
       "  'start': 385.74,\n",
       "  'duration': 6.26},\n",
       " {'text': 'yeah it was yeah it was mud', 'start': 387.539, 'duration': 4.461},\n",
       " {'text': \"I've tried to keep my head down and was\",\n",
       "  'start': 393.319,\n",
       "  'duration': 4.0},\n",
       " {'text': 'ducked into it and the first ball of the',\n",
       "  'start': 395.58,\n",
       "  'duration': 3.0},\n",
       " {'text': 'test is actually hits the four through',\n",
       "  'start': 397.319,\n",
       "  'duration': 3.0},\n",
       " {'text': 'cover I was in The Hollies for that yeah',\n",
       "  'start': 398.58,\n",
       "  'duration': 4.32},\n",
       " {'text': 'it was like a football ground oh here we',\n",
       "  'start': 400.319,\n",
       "  'duration': 5.041},\n",
       " {'text': 'go oh I love it great effort Jack Shane',\n",
       "  'start': 402.9,\n",
       "  'duration': 4.38},\n",
       " {'text': 'dot more and I saw your reaction to that',\n",
       "  'start': 405.36,\n",
       "  'duration': 3.959},\n",
       " {'text': 'yeah it was mad it was because of the',\n",
       "  'start': 407.28,\n",
       "  'duration': 3.44},\n",
       " {'text': 'last series', 'start': 409.319, 'duration': 4.88},\n",
       " {'text': 'completely opposite yeah', 'start': 410.72, 'duration': 3.479},\n",
       " {'text': \"it's a great shot that Jack six runs\",\n",
       "  'start': 415.759,\n",
       "  'duration': 6.88},\n",
       " {'text': \"yeah it's not feeling too bad I just\",\n",
       "  'start': 420.38,\n",
       "  'duration': 4.36},\n",
       " {'text': 'need to keep connecting', 'start': 422.639, 'duration': 3.78},\n",
       " {'text': \"that's a lovely shot what are you saying\",\n",
       "  'start': 424.74,\n",
       "  'duration': 2.7},\n",
       " {'text': 'for that though have you got another one',\n",
       "  'start': 426.419,\n",
       "  'duration': 4.801},\n",
       " {'text': \"out I've got long long off so long how\",\n",
       "  'start': 427.44,\n",
       "  'duration': 5.22},\n",
       " {'text': \"straight was that four it's a great shot\",\n",
       "  'start': 431.22,\n",
       "  'duration': 3.62},\n",
       " {'text': 'then', 'start': 432.66, 'duration': 2.18},\n",
       " {'text': 'it is', 'start': 436.46, 'duration': 3.0},\n",
       " {'text': 'in his head rent free', 'start': 440.12, 'duration': 4.019},\n",
       " {'text': 'swim all that', 'start': 444.36, 'duration': 4.98},\n",
       " {'text': 'or cloth', 'start': 447.12, 'duration': 4.799},\n",
       " {'text': 'I think singles I reckon you can go',\n",
       "  'start': 449.34,\n",
       "  'duration': 4.199},\n",
       " {'text': \"single you've like you know when you're\",\n",
       "  'start': 451.919,\n",
       "  'duration': 2.701},\n",
       " {'text': \"hitting the air and you're like oh we're\",\n",
       "  'start': 453.539,\n",
       "  'duration': 2.461},\n",
       " {'text': 'out here but he just dropped the dolly',\n",
       "  'start': 454.62,\n",
       "  'duration': 4.56},\n",
       " {'text': 'again yeah', 'start': 456.0, 'duration': 3.18},\n",
       " {'text': 'take four there', 'start': 460.02, 'duration': 2.899},\n",
       " {'text': 'all right', 'start': 467.539, 'duration': 5.44},\n",
       " {'text': 'yeah getting some bat on here', 'start': 469.56, 'duration': 5.28},\n",
       " {'text': 'oh yeah just one bat away from four',\n",
       "  'start': 472.979,\n",
       "  'duration': 3.481},\n",
       " {'text': 'there but remember every time you miss',\n",
       "  'start': 474.84,\n",
       "  'duration': 4.04},\n",
       " {'text': 'it the double', 'start': 476.46, 'duration': 2.42},\n",
       " {'text': 'keep going mate keep going', 'start': 479.52, 'duration': 3.32},\n",
       " {'text': '4 38', 'start': 485.52, 'duration': 4.679},\n",
       " {'text': \". it's another cover's ass cover up\",\n",
       "  'start': 487.44,\n",
       "  'duration': 4.259},\n",
       " {'text': 'covers out covers out yeah just probably',\n",
       "  'start': 490.199,\n",
       "  'duration': 3.481},\n",
       " {'text': 'two maybe this is the way to play rather',\n",
       "  'start': 491.699,\n",
       "  'duration': 4.981},\n",
       " {'text': \"than just now yeah you're right nah\",\n",
       "  'start': 493.68,\n",
       "  'duration': 6.0},\n",
       " {'text': 'again', 'start': 496.68, 'duration': 3.0},\n",
       " {'text': 'sample one', 'start': 502.379, 'duration': 4.141},\n",
       " {'text': 'shot well played two again yeah two',\n",
       "  'start': 504.18,\n",
       "  'duration': 4.579},\n",
       " {'text': 'again', 'start': 506.52, 'duration': 2.239},\n",
       " {'text': 'come on', 'start': 508.8, 'duration': 4.52},\n",
       " {'text': \"it's only quite well\", 'start': 511.199, 'duration': 5.34},\n",
       " {'text': 'cloud cover yeah following Jimmy Geez',\n",
       "  'start': 513.32,\n",
       "  'duration': 5.139},\n",
       " {'text': 'this is quite odd', 'start': 516.539, 'duration': 5.221},\n",
       " {'text': \"oh he's he's done some in here\",\n",
       "  'start': 518.459,\n",
       "  'duration': 5.481},\n",
       " {'text': \"it's not easy to be fair on a rooftop\",\n",
       "  'start': 521.76,\n",
       "  'duration': 4.38},\n",
       " {'text': 'but the building side is a side screen',\n",
       "  'start': 523.94,\n",
       "  'duration': 6.839},\n",
       " {'text': \"oh my God it's gone before\", 'start': 526.14, 'duration': 4.639},\n",
       " {'text': \"I know it's hard\", 'start': 530.839, 'duration': 3.361},\n",
       " {'text': '[Applause]', 'start': 536.34, 'duration': 3.11},\n",
       " {'text': 'yeah good effort tricky conditions yeah',\n",
       "  'start': 539.899,\n",
       "  'duration': 6.581},\n",
       " {'text': 'job done 27 balls that is tough some',\n",
       "  'start': 542.7,\n",
       "  'duration': 5.04},\n",
       " {'text': 'reason there a couple of balls just',\n",
       "  'start': 546.48,\n",
       "  'duration': 3.6},\n",
       " {'text': 'absolute seeds out of nowhere so yeah',\n",
       "  'start': 547.74,\n",
       "  'duration': 3.779},\n",
       " {'text': \"that's really hard Ben made that look\",\n",
       "  'start': 550.08,\n",
       "  'duration': 3.62},\n",
       " {'text': 'very very easy', 'start': 551.519, 'duration': 5.39},\n",
       " {'text': '[Music]', 'start': 553.7, 'duration': 3.209},\n",
       " {'text': 'right after a quick break filming a few',\n",
       "  'start': 558.48,\n",
       "  'duration': 3.18},\n",
       " {'text': \"tick tocks on Red Bull's Channel make\",\n",
       "  'start': 560.1,\n",
       "  'duration': 2.88},\n",
       " {'text': \"sure you go and check that out it's time\",\n",
       "  'start': 561.66,\n",
       "  'duration': 3.06},\n",
       " {'text': 'for me to have a go at fastest to 50. I',\n",
       "  'start': 562.98,\n",
       "  'duration': 4.26},\n",
       " {'text': 'think Ben only took 18 balls ridiculous',\n",
       "  'start': 564.72,\n",
       "  'duration': 4.26},\n",
       " {'text': \"and it's pretty difficult up here you\",\n",
       "  'start': 567.24,\n",
       "  'duration': 5.039},\n",
       " {'text': \"were 27 and that was hard work so that's\",\n",
       "  'start': 568.98,\n",
       "  'duration': 5.82},\n",
       " {'text': \"a lot cheers let's give it a go okay\",\n",
       "  'start': 572.279,\n",
       "  'duration': 5.221},\n",
       " {'text': 'yeah cool', 'start': 574.8, 'duration': 5.2},\n",
       " {'text': 'oh wow', 'start': 577.5, 'duration': 6.72},\n",
       " {'text': '[Laughter]', 'start': 580.0, 'duration': 4.22},\n",
       " {'text': 'they never go twice though', 'start': 584.839, 'duration': 3.781},\n",
       " {'text': \"love that it's a good shot for one yeah\",\n",
       "  'start': 590.22,\n",
       "  'duration': 5.179},\n",
       " {'text': 'yeah what how many balls we need 27.',\n",
       "  'start': 592.92,\n",
       "  'duration': 5.7},\n",
       " {'text': 'disappointing oh that is smoked one',\n",
       "  'start': 595.399,\n",
       "  'duration': 4.601},\n",
       " {'text': 'again though you see they either get',\n",
       "  'start': 598.62,\n",
       "  'duration': 3.6},\n",
       " {'text': 'finer or swearer yeah', 'start': 600.0, 'duration': 5.04},\n",
       " {'text': \"oh he's got bow in it but is that that's\",\n",
       "  'start': 602.22,\n",
       "  'duration': 4.92},\n",
       " {'text': 'gonna be once a short time just what I',\n",
       "  'start': 605.04,\n",
       "  'duration': 3.54},\n",
       " {'text': 'was gonna give you two', 'start': 607.14, 'duration': 4.44},\n",
       " {'text': 'definitely', 'start': 608.58, 'duration': 3.0},\n",
       " {'text': 'shot', 'start': 612.0, 'duration': 2.779},\n",
       " {'text': 'single so The Hollies is going mental',\n",
       "  'start': 617.6,\n",
       "  'duration': 4.859},\n",
       " {'text': 'right now', 'start': 620.16, 'duration': 2.299},\n",
       " {'text': \"there's the wind oh Jimmy there's a wind\",\n",
       "  'start': 623.959,\n",
       "  'duration': 6.301},\n",
       " {'text': \"is that dot wall or you're running there\",\n",
       "  'start': 626.76,\n",
       "  'duration': 7.22},\n",
       " {'text': \"yeah Jimmy can't feel\", 'start': 630.26, 'duration': 3.72},\n",
       " {'text': 'shot shot again two', 'start': 634.22, 'duration': 4.44},\n",
       " {'text': 'no so lucky', 'start': 639.3, 'duration': 4.68},\n",
       " {'text': \"it's only one though yeah it does it's\",\n",
       "  'start': 641.82,\n",
       "  'duration': 3.72},\n",
       " {'text': 'just one', 'start': 643.98, 'duration': 4.38},\n",
       " {'text': 'oh if you stick that', 'start': 645.54, 'duration': 4.52},\n",
       " {'text': 'yeah', 'start': 648.36, 'duration': 5.039},\n",
       " {'text': 'is that four out Toby are you saying',\n",
       "  'start': 650.06,\n",
       "  'duration': 5.64},\n",
       " {'text': 'foreign', 'start': 653.399, 'duration': 2.301},\n",
       " {'text': \"is that fine enough that it's six you're\",\n",
       "  'start': 667.68,\n",
       "  'duration': 5.339},\n",
       " {'text': \"like uh because you've just gone with a\",\n",
       "  'start': 670.2,\n",
       "  'duration': 4.44},\n",
       " {'text': 'very short boundary for six but okay',\n",
       "  'start': 673.019,\n",
       "  'duration': 4.281},\n",
       " {'text': 'come for them', 'start': 674.64, 'duration': 2.66},\n",
       " {'text': 'two', 'start': 679.5, 'duration': 3.26},\n",
       " {'text': \"that's nice\", 'start': 681.24, 'duration': 5.46},\n",
       " {'text': 'oh yeah one bounce you need to see a bit',\n",
       "  'start': 682.76,\n",
       "  'duration': 6.42},\n",
       " {'text': 'more commitment', 'start': 686.7, 'duration': 2.48},\n",
       " {'text': 'oh I closed it in the gap for two no two',\n",
       "  'start': 690.779,\n",
       "  'duration': 7.68},\n",
       " {'text': 'oh you dropped', 'start': 695.0, 'duration': 5.68},\n",
       " {'text': \"it's gone over Point yeah it's one of\",\n",
       "  'start': 698.459,\n",
       "  'duration': 3.0},\n",
       " {'text': 'those', 'start': 700.68, 'duration': 2.58},\n",
       " {'text': 'okay two', 'start': 701.459, 'duration': 5.041},\n",
       " {'text': 'run two I like it now', 'start': 703.26, 'duration': 6.24},\n",
       " {'text': \"one and so you've got no one out no one\",\n",
       "  'start': 706.5,\n",
       "  'duration': 4.38},\n",
       " {'text': 'is out yeah but you just keep playing',\n",
       "  'start': 709.5,\n",
       "  'duration': 2.7},\n",
       " {'text': \"nice pretty cover drives for one that's\",\n",
       "  'start': 710.88,\n",
       "  'duration': 3.56},\n",
       " {'text': 'fine', 'start': 712.2, 'duration': 2.24},\n",
       " {'text': 'oh my gosh', 'start': 715.38, 'duration': 4.62},\n",
       " {'text': 'we gave him four before I reckon we get',\n",
       "  'start': 718.019,\n",
       "  'duration': 3.081},\n",
       " {'text': 'one back there', 'start': 720.0, 'duration': 4.86},\n",
       " {'text': \"that's out mine is fine no it's just\",\n",
       "  'start': 721.1,\n",
       "  'duration': 6.04},\n",
       " {'text': 'stop ball', 'start': 724.86, 'duration': 4.919},\n",
       " {'text': \"oh my God has he got the Gap yeah he's\",\n",
       "  'start': 727.14,\n",
       "  'duration': 3.84},\n",
       " {'text': \"the Gap but it does that's not run away\",\n",
       "  'start': 729.779,\n",
       "  'duration': 3.081},\n",
       " {'text': 'I think two two yeah', 'start': 730.98, 'duration': 5.52},\n",
       " {'text': \"or guided I like that it's a gap look no\",\n",
       "  'start': 732.86,\n",
       "  'duration': 6.58},\n",
       " {'text': \"that's a DOT ball straight to point what\",\n",
       "  'start': 736.5,\n",
       "  'duration': 4.7},\n",
       " {'text': 'is that', 'start': 739.44, 'duration': 5.16},\n",
       " {'text': 'I love the idea', 'start': 741.2, 'duration': 6.4},\n",
       " {'text': 'pie', 'start': 744.6, 'duration': 3.0},\n",
       " {'text': 'oh that might be one are you up for the',\n",
       "  'start': 750.14,\n",
       "  'duration': 4.96},\n",
       " {'text': 'game and for the content six', 'start': 752.94, 'duration': 4.94},\n",
       " {'text': 'come on', 'start': 755.1, 'duration': 2.78},\n",
       " {'text': 'come on fives come on Toby send it',\n",
       "  'start': 758.76,\n",
       "  'duration': 7.139},\n",
       " {'text': \"oh that's a shame it's another pretty\",\n",
       "  'start': 763.26,\n",
       "  'duration': 4.579},\n",
       " {'text': 'Cover Drive for one', 'start': 765.899, 'duration': 5.541},\n",
       " {'text': 'wind is up', 'start': 767.839, 'duration': 3.601},\n",
       " {'text': \"oh that's nice say that to finish the\",\n",
       "  'start': 773.639,\n",
       "  'duration': 3.481},\n",
       " {'text': 'game', 'start': 776.1, 'duration': 2.82},\n",
       " {'text': 'yeah take that hold on', 'start': 777.12, 'duration': 6.019},\n",
       " {'text': 'enjoying the little Scoops as well',\n",
       "  'start': 778.92,\n",
       "  'duration': 4.219},\n",
       " {'text': 'looks good so much your time really',\n",
       "  'start': 787.44,\n",
       "  'duration': 3.839},\n",
       " {'text': 'appreciate it and then best of luck in',\n",
       "  'start': 789.18,\n",
       "  'duration': 3.44},\n",
       " {'text': 'the rest of the ashes', 'start': 791.279, 'duration': 3.12},\n",
       " {'text': 'appreciate it a lot cheers and', 'start': 792.62, 'duration': 5.14},\n",
       " {'text': 'congratulations thank you winner so',\n",
       "  'start': 794.399,\n",
       "  'duration': 5.041},\n",
       " {'text': 'there we have it Ben moves to second',\n",
       "  'start': 797.76,\n",
       "  'duration': 3.84},\n",
       " {'text': 'place in the fastest to 50 overall',\n",
       "  'start': 799.44,\n",
       "  'duration': 3.78},\n",
       " {'text': 'leaderboard comment below with which',\n",
       "  'start': 801.6,\n",
       "  'duration': 3.299},\n",
       " {'text': 'player you want to see take on this',\n",
       "  'start': 803.22,\n",
       "  'duration': 4.34},\n",
       " {'text': 'challenge next', 'start': 804.899, 'duration': 2.661},\n",
       " {'text': 'thank you', 'start': 811.579, 'duration': 3.0}]"
      ]
     },
     "execution_count": 6,
     "metadata": {},
     "output_type": "execute_result"
    }
   ],
   "source": [
    "transcript_list"
   ]
  },
  {
   "cell_type": "code",
   "execution_count": 7,
   "id": "9bd8ce45",
   "metadata": {},
   "outputs": [],
   "source": [
    "splitter = RecursiveCharacterTextSplitter(chunk_size=1000, chunk_overlap=200)\n",
    "chunks = splitter.create_documents([transcript])"
   ]
  },
  {
   "cell_type": "code",
   "execution_count": 8,
   "id": "b8cb5d69",
   "metadata": {},
   "outputs": [
    {
     "data": {
      "text/plain": [
       "11"
      ]
     },
     "execution_count": 8,
     "metadata": {},
     "output_type": "execute_result"
    }
   ],
   "source": [
    "len(chunks)"
   ]
  },
  {
   "cell_type": "code",
   "execution_count": 9,
   "id": "0e2f1823",
   "metadata": {},
   "outputs": [
    {
     "name": "stdout",
     "output_type": "stream",
     "text": [
      "page_content='now yeah you're right nah again sample one shot well played two again yeah two again come on it's only quite well cloud cover yeah following Jimmy Geez this is quite odd oh he's he's done some in here it's not easy to be fair on a rooftop but the building side is a side screen oh my God it's gone before I know it's hard [Applause] yeah good effort tricky conditions yeah job done 27 balls that is tough some reason there a couple of balls just absolute seeds out of nowhere so yeah that's really hard Ben made that look very very easy [Music] right after a quick break filming a few tick tocks on Red Bull's Channel make sure you go and check that out it's time for me to have a go at fastest to 50. I think Ben only took 18 balls ridiculous and it's pretty difficult up here you were 27 and that was hard work so that's a lot cheers let's give it a go okay yeah cool oh wow [Laughter] they never go twice though love that it's a good shot for one yeah yeah what how many balls we need 27.'\n"
     ]
    }
   ],
   "source": [
    "print(chunks[7])"
   ]
  },
  {
   "cell_type": "code",
   "execution_count": 11,
   "id": "b75eb4a5",
   "metadata": {},
   "outputs": [],
   "source": [
    "embedding_model=GoogleGenerativeAIEmbeddings(model=\"models/embedding-001\")\n",
    "vector_store = FAISS.from_documents(chunks, embedding_model)"
   ]
  },
  {
   "cell_type": "code",
   "execution_count": 12,
   "id": "f52dc59b",
   "metadata": {},
   "outputs": [
    {
     "data": {
      "text/plain": [
       "{0: '902be62c-dbe2-47c1-a304-316e5fbe6893',\n",
       " 1: '055c2a30-5cc9-4751-9b8f-87d6f8a53053',\n",
       " 2: '3f1e3dff-6847-4d9f-81a4-ee4fe356320a',\n",
       " 3: '6048f70b-a520-4136-a026-9c5781f2e134',\n",
       " 4: 'f83dc170-d73b-463a-8e7e-a3fe3ea1103d',\n",
       " 5: 'cbce0536-d5e7-4375-808a-ef2bed8a94ee',\n",
       " 6: 'fd59c081-2a1c-44f1-bcc3-23c2d2dfda82',\n",
       " 7: '94d0d075-297d-428c-ac54-a453bb45ef2c',\n",
       " 8: '5b06e801-9902-4551-9509-5154e8c2cb74',\n",
       " 9: 'd32807b0-c726-4eff-b896-1a29efffc6ca',\n",
       " 10: 'f0103882-1b2e-4823-a9cc-eb2ca0c2fa49'}"
      ]
     },
     "execution_count": 12,
     "metadata": {},
     "output_type": "execute_result"
    }
   ],
   "source": [
    "vector_store.index_to_docstore_id"
   ]
  },
  {
   "cell_type": "code",
   "execution_count": 14,
   "id": "b0136bf1",
   "metadata": {},
   "outputs": [
    {
     "data": {
      "text/plain": [
       "[Document(id='d32807b0-c726-4eff-b896-1a29efffc6ca', metadata={}, page_content=\"short boundary for six but okay come for them two that's nice oh yeah one bounce you need to see a bit more commitment oh I closed it in the gap for two no two oh you dropped it's gone over Point yeah it's one of those okay two run two I like it now one and so you've got no one out no one is out yeah but you just keep playing nice pretty cover drives for one that's fine oh my gosh we gave him four before I reckon we get one back there that's out mine is fine no it's just stop ball oh my God has he got the Gap yeah he's the Gap but it does that's not run away I think two two yeah or guided I like that it's a gap look no that's a DOT ball straight to point what is that I love the idea pie oh that might be one are you up for the game and for the content six come on come on fives come on Toby send it oh that's a shame it's another pretty Cover Drive for one wind is up oh that's nice say that to finish the game yeah take that hold on enjoying the little Scoops as well looks good so much\")]"
      ]
     },
     "execution_count": 14,
     "metadata": {},
     "output_type": "execute_result"
    }
   ],
   "source": [
    "vector_store.get_by_ids(['d32807b0-c726-4eff-b896-1a29efffc6ca'])"
   ]
  },
  {
   "cell_type": "code",
   "execution_count": null,
   "id": "ddb4058f",
   "metadata": {},
   "outputs": [],
   "source": [
    "# Retrieval\n",
    "retriever = vector_store.as_retriever(search_type=\"similarity\", search_kwargs={\"k\": 4})"
   ]
  },
  {
   "cell_type": "code",
   "execution_count": 16,
   "id": "3cdea127",
   "metadata": {},
   "outputs": [
    {
     "data": {
      "text/plain": [
       "VectorStoreRetriever(tags=['FAISS', 'GoogleGenerativeAIEmbeddings'], vectorstore=<langchain_community.vectorstores.faiss.FAISS object at 0x137844b60>, search_kwargs={'k': 4})"
      ]
     },
     "execution_count": 16,
     "metadata": {},
     "output_type": "execute_result"
    }
   ],
   "source": [
    "retriever"
   ]
  },
  {
   "cell_type": "code",
   "execution_count": 17,
   "id": "8363d67d",
   "metadata": {},
   "outputs": [
    {
     "data": {
      "text/plain": [
       "[Document(id='3f1e3dff-6847-4d9f-81a4-ee4fe356320a', metadata={}, page_content=\"one yeah let's trade it cover straight it's okay no one in my team is stopping that that's full let's go two there yeah oh you cover one one it's dropped before him oh four four ones easy that's big that's big that's huge then how far is that gone doesn't matter it's only six in it what's the biggest six you've ever hit Ben I reckon the one I hit last year at Trent Bridge off bracewell yeah the one that was nowhere near the pitch of the ball there goes far 120 meters 130 definitely over 100. seriously good shot I really want to make him angry that's when he plays his best cricket oh no wonder why look at it it's got no dimples on it [Music] oh there we go okay that's the biggest things ever 18 balls for Ben Stokes fastest to 50. this man is a legend yeah time for us to give it a go I'm worried and that's because that is seriously impressive on this balls are flying everywhere in the wind yeah skidding on some of them are full so yeah that's impressive he has made that look very easy\"),\n",
       " Document(id='902be62c-dbe2-47c1-a304-316e5fbe6893', metadata={}, page_content=\"well I've never been asked to do a net on top of a roof before oh there we go who doesn't come in here oh wow straight in it's full I really want to make him angry as many places that's good yet that will make him angry yes guys welcome back to the channel today we're filming a very special episode of fastest to 50 with the one and only Ben Stokes that's right we're on the rooftop of Red Bull here in London what'd you make of this uh well I've never been us to do a net on top of a roof before so yeah move for a treat I think fantastic pretty confident uh yeah well it's what is it you know it should be taking this on I should be taking this Victory home against you too so I did see your efforts last time against broady so I'm not too worried now fair enough fair enough all right good luck Cheers Cheers right Ben is up there to the crease to score 50 as quickly as possible will be deciding the scores based on a theoretical field which we discussed beforehand our four fielders outs are\"),\n",
       " Document(id='cbce0536-d5e7-4375-808a-ef2bed8a94ee', metadata={}, page_content=\"Roy is out there yeah okay okay remember the fine leg and third manner up yeah yeah it is yeah yeah you've got three men to get over on the leg side please ask Joe root steps out first ball of day four and goes to reverse ramp yeah what was said I didn't have it on my radar to be honest he's going to play the shot when he's in but I did not have him doing it first ball of the day it's incredible they actually just laughed yeah it was yeah it was mud I've tried to keep my head down and was ducked into it and the first ball of the test is actually hits the four through cover I was in The Hollies for that yeah it was like a football ground oh here we go oh I love it great effort Jack Shane dot more and I saw your reaction to that yeah it was mad it was because of the last series completely opposite yeah it's a great shot that Jack six runs yeah it's not feeling too bad I just need to keep connecting that's a lovely shot what are you saying for that though have you got another one out\"),\n",
       " Document(id='055c2a30-5cc9-4751-9b8f-87d6f8a53053', metadata={}, page_content=\"Cheers Cheers right Ben is up there to the crease to score 50 as quickly as possible will be deciding the scores based on a theoretical field which we discussed beforehand our four fielders outs are long on deep Square Third Man and Deep Cover right here we go full one fastest to 50 States yes one that's four oh three balls come yeah five on the board shot six six yeah [Music] there's a bit of moving on this rooftop it's very windy would you give him that one or two I'll take two yeah that's great coaching that is what landmark is that hit they're taking out the crane one one just a one for that one is it moving a bit yeah okay it's interesting and we give it a go off shot oh it's gone I'll let you I'll let you be just let's go to the point forgivable yeah shots or again I'll take one take one yeah let's trade it cover straight it's okay no one in my team is stopping that that's full let's go two there yeah oh you cover one one it's dropped before him oh four four ones easy that's big\")]"
      ]
     },
     "execution_count": 17,
     "metadata": {},
     "output_type": "execute_result"
    }
   ],
   "source": [
    "retriever.invoke('What shot is Ben Stokes playing?')"
   ]
  },
  {
   "cell_type": "code",
   "execution_count": 19,
   "id": "067a4fb7",
   "metadata": {},
   "outputs": [],
   "source": [
    "# Augmentation\n",
    "llm = ChatGoogleGenerativeAI(model=\"gemini-2.0-flash\",\n",
    "    api_key=os.getenv(\"GOOGLE_API_KEY\"))"
   ]
  },
  {
   "cell_type": "code",
   "execution_count": 20,
   "id": "9268327c",
   "metadata": {},
   "outputs": [],
   "source": [
    "prompt = PromptTemplate(\n",
    "    template=\"\"\"\n",
    "      You are a helpful assistant.\n",
    "      Answer ONLY from the provided transcript context.\n",
    "      If the context is insufficient, just say you don't know.\n",
    "\n",
    "      {context}\n",
    "      Question: {question}\n",
    "    \"\"\",\n",
    "    input_variables = ['context', 'question']\n",
    ")"
   ]
  },
  {
   "cell_type": "code",
   "execution_count": 22,
   "id": "1d329097",
   "metadata": {},
   "outputs": [],
   "source": [
    "question = \"What the video is about?\"\n",
    "retrieved_docs  = retriever.invoke(question)"
   ]
  },
  {
   "cell_type": "code",
   "execution_count": 24,
   "id": "feeeec83",
   "metadata": {},
   "outputs": [
    {
     "data": {
      "text/plain": [
       "[Document(id='902be62c-dbe2-47c1-a304-316e5fbe6893', metadata={}, page_content=\"well I've never been asked to do a net on top of a roof before oh there we go who doesn't come in here oh wow straight in it's full I really want to make him angry as many places that's good yet that will make him angry yes guys welcome back to the channel today we're filming a very special episode of fastest to 50 with the one and only Ben Stokes that's right we're on the rooftop of Red Bull here in London what'd you make of this uh well I've never been us to do a net on top of a roof before so yeah move for a treat I think fantastic pretty confident uh yeah well it's what is it you know it should be taking this on I should be taking this Victory home against you too so I did see your efforts last time against broady so I'm not too worried now fair enough fair enough all right good luck Cheers Cheers right Ben is up there to the crease to score 50 as quickly as possible will be deciding the scores based on a theoretical field which we discussed beforehand our four fielders outs are\"),\n",
       " Document(id='055c2a30-5cc9-4751-9b8f-87d6f8a53053', metadata={}, page_content=\"Cheers Cheers right Ben is up there to the crease to score 50 as quickly as possible will be deciding the scores based on a theoretical field which we discussed beforehand our four fielders outs are long on deep Square Third Man and Deep Cover right here we go full one fastest to 50 States yes one that's four oh three balls come yeah five on the board shot six six yeah [Music] there's a bit of moving on this rooftop it's very windy would you give him that one or two I'll take two yeah that's great coaching that is what landmark is that hit they're taking out the crane one one just a one for that one is it moving a bit yeah okay it's interesting and we give it a go off shot oh it's gone I'll let you I'll let you be just let's go to the point forgivable yeah shots or again I'll take one take one yeah let's trade it cover straight it's okay no one in my team is stopping that that's full let's go two there yeah oh you cover one one it's dropped before him oh four four ones easy that's big\"),\n",
       " Document(id='3f1e3dff-6847-4d9f-81a4-ee4fe356320a', metadata={}, page_content=\"one yeah let's trade it cover straight it's okay no one in my team is stopping that that's full let's go two there yeah oh you cover one one it's dropped before him oh four four ones easy that's big that's big that's huge then how far is that gone doesn't matter it's only six in it what's the biggest six you've ever hit Ben I reckon the one I hit last year at Trent Bridge off bracewell yeah the one that was nowhere near the pitch of the ball there goes far 120 meters 130 definitely over 100. seriously good shot I really want to make him angry that's when he plays his best cricket oh no wonder why look at it it's got no dimples on it [Music] oh there we go okay that's the biggest things ever 18 balls for Ben Stokes fastest to 50. this man is a legend yeah time for us to give it a go I'm worried and that's because that is seriously impressive on this balls are flying everywhere in the wind yeah skidding on some of them are full so yeah that's impressive he has made that look very easy\"),\n",
       " Document(id='94d0d075-297d-428c-ac54-a453bb45ef2c', metadata={}, page_content=\"now yeah you're right nah again sample one shot well played two again yeah two again come on it's only quite well cloud cover yeah following Jimmy Geez this is quite odd oh he's he's done some in here it's not easy to be fair on a rooftop but the building side is a side screen oh my God it's gone before I know it's hard [Applause] yeah good effort tricky conditions yeah job done 27 balls that is tough some reason there a couple of balls just absolute seeds out of nowhere so yeah that's really hard Ben made that look very very easy [Music] right after a quick break filming a few tick tocks on Red Bull's Channel make sure you go and check that out it's time for me to have a go at fastest to 50. I think Ben only took 18 balls ridiculous and it's pretty difficult up here you were 27 and that was hard work so that's a lot cheers let's give it a go okay yeah cool oh wow [Laughter] they never go twice though love that it's a good shot for one yeah yeah what how many balls we need 27.\")]"
      ]
     },
     "execution_count": 24,
     "metadata": {},
     "output_type": "execute_result"
    }
   ],
   "source": [
    "retrieved_docs"
   ]
  },
  {
   "cell_type": "code",
   "execution_count": 25,
   "id": "2cfb8e82",
   "metadata": {},
   "outputs": [
    {
     "data": {
      "text/plain": [
       "\"well I've never been asked to do a net on top of a roof before oh there we go who doesn't come in here oh wow straight in it's full I really want to make him angry as many places that's good yet that will make him angry yes guys welcome back to the channel today we're filming a very special episode of fastest to 50 with the one and only Ben Stokes that's right we're on the rooftop of Red Bull here in London what'd you make of this uh well I've never been us to do a net on top of a roof before so yeah move for a treat I think fantastic pretty confident uh yeah well it's what is it you know it should be taking this on I should be taking this Victory home against you too so I did see your efforts last time against broady so I'm not too worried now fair enough fair enough all right good luck Cheers Cheers right Ben is up there to the crease to score 50 as quickly as possible will be deciding the scores based on a theoretical field which we discussed beforehand our four fielders outs are\\n\\nCheers Cheers right Ben is up there to the crease to score 50 as quickly as possible will be deciding the scores based on a theoretical field which we discussed beforehand our four fielders outs are long on deep Square Third Man and Deep Cover right here we go full one fastest to 50 States yes one that's four oh three balls come yeah five on the board shot six six yeah [Music] there's a bit of moving on this rooftop it's very windy would you give him that one or two I'll take two yeah that's great coaching that is what landmark is that hit they're taking out the crane one one just a one for that one is it moving a bit yeah okay it's interesting and we give it a go off shot oh it's gone I'll let you I'll let you be just let's go to the point forgivable yeah shots or again I'll take one take one yeah let's trade it cover straight it's okay no one in my team is stopping that that's full let's go two there yeah oh you cover one one it's dropped before him oh four four ones easy that's big\\n\\none yeah let's trade it cover straight it's okay no one in my team is stopping that that's full let's go two there yeah oh you cover one one it's dropped before him oh four four ones easy that's big that's big that's huge then how far is that gone doesn't matter it's only six in it what's the biggest six you've ever hit Ben I reckon the one I hit last year at Trent Bridge off bracewell yeah the one that was nowhere near the pitch of the ball there goes far 120 meters 130 definitely over 100. seriously good shot I really want to make him angry that's when he plays his best cricket oh no wonder why look at it it's got no dimples on it [Music] oh there we go okay that's the biggest things ever 18 balls for Ben Stokes fastest to 50. this man is a legend yeah time for us to give it a go I'm worried and that's because that is seriously impressive on this balls are flying everywhere in the wind yeah skidding on some of them are full so yeah that's impressive he has made that look very easy\\n\\nnow yeah you're right nah again sample one shot well played two again yeah two again come on it's only quite well cloud cover yeah following Jimmy Geez this is quite odd oh he's he's done some in here it's not easy to be fair on a rooftop but the building side is a side screen oh my God it's gone before I know it's hard [Applause] yeah good effort tricky conditions yeah job done 27 balls that is tough some reason there a couple of balls just absolute seeds out of nowhere so yeah that's really hard Ben made that look very very easy [Music] right after a quick break filming a few tick tocks on Red Bull's Channel make sure you go and check that out it's time for me to have a go at fastest to 50. I think Ben only took 18 balls ridiculous and it's pretty difficult up here you were 27 and that was hard work so that's a lot cheers let's give it a go okay yeah cool oh wow [Laughter] they never go twice though love that it's a good shot for one yeah yeah what how many balls we need 27.\""
      ]
     },
     "execution_count": 25,
     "metadata": {},
     "output_type": "execute_result"
    }
   ],
   "source": [
    "context_text = \"\\n\\n\".join(doc.page_content for doc in retrieved_docs)\n",
    "context_text"
   ]
  },
  {
   "cell_type": "code",
   "execution_count": 27,
   "id": "4ff9b9a6",
   "metadata": {},
   "outputs": [
    {
     "name": "stdout",
     "output_type": "stream",
     "text": [
      "text=\"\\n      You are a helpful assistant.\\n      Answer ONLY from the provided transcript context.\\n      If the context is insufficient, just say you don't know.\\n\\n      well I've never been asked to do a net on top of a roof before oh there we go who doesn't come in here oh wow straight in it's full I really want to make him angry as many places that's good yet that will make him angry yes guys welcome back to the channel today we're filming a very special episode of fastest to 50 with the one and only Ben Stokes that's right we're on the rooftop of Red Bull here in London what'd you make of this uh well I've never been us to do a net on top of a roof before so yeah move for a treat I think fantastic pretty confident uh yeah well it's what is it you know it should be taking this on I should be taking this Victory home against you too so I did see your efforts last time against broady so I'm not too worried now fair enough fair enough all right good luck Cheers Cheers right Ben is up there to the crease to score 50 as quickly as possible will be deciding the scores based on a theoretical field which we discussed beforehand our four fielders outs are\\n\\nCheers Cheers right Ben is up there to the crease to score 50 as quickly as possible will be deciding the scores based on a theoretical field which we discussed beforehand our four fielders outs are long on deep Square Third Man and Deep Cover right here we go full one fastest to 50 States yes one that's four oh three balls come yeah five on the board shot six six yeah [Music] there's a bit of moving on this rooftop it's very windy would you give him that one or two I'll take two yeah that's great coaching that is what landmark is that hit they're taking out the crane one one just a one for that one is it moving a bit yeah okay it's interesting and we give it a go off shot oh it's gone I'll let you I'll let you be just let's go to the point forgivable yeah shots or again I'll take one take one yeah let's trade it cover straight it's okay no one in my team is stopping that that's full let's go two there yeah oh you cover one one it's dropped before him oh four four ones easy that's big\\n\\none yeah let's trade it cover straight it's okay no one in my team is stopping that that's full let's go two there yeah oh you cover one one it's dropped before him oh four four ones easy that's big that's big that's huge then how far is that gone doesn't matter it's only six in it what's the biggest six you've ever hit Ben I reckon the one I hit last year at Trent Bridge off bracewell yeah the one that was nowhere near the pitch of the ball there goes far 120 meters 130 definitely over 100. seriously good shot I really want to make him angry that's when he plays his best cricket oh no wonder why look at it it's got no dimples on it [Music] oh there we go okay that's the biggest things ever 18 balls for Ben Stokes fastest to 50. this man is a legend yeah time for us to give it a go I'm worried and that's because that is seriously impressive on this balls are flying everywhere in the wind yeah skidding on some of them are full so yeah that's impressive he has made that look very easy\\n\\nnow yeah you're right nah again sample one shot well played two again yeah two again come on it's only quite well cloud cover yeah following Jimmy Geez this is quite odd oh he's he's done some in here it's not easy to be fair on a rooftop but the building side is a side screen oh my God it's gone before I know it's hard [Applause] yeah good effort tricky conditions yeah job done 27 balls that is tough some reason there a couple of balls just absolute seeds out of nowhere so yeah that's really hard Ben made that look very very easy [Music] right after a quick break filming a few tick tocks on Red Bull's Channel make sure you go and check that out it's time for me to have a go at fastest to 50. I think Ben only took 18 balls ridiculous and it's pretty difficult up here you were 27 and that was hard work so that's a lot cheers let's give it a go okay yeah cool oh wow [Laughter] they never go twice though love that it's a good shot for one yeah yeah what how many balls we need 27.\\n      Question: What the video is about?\\n    \"\n"
     ]
    }
   ],
   "source": [
    "final_prompt = prompt.invoke({\"context\": context_text, \"question\": question})\n",
    "print(final_prompt)"
   ]
  },
  {
   "cell_type": "code",
   "execution_count": 28,
   "id": "6b557fb0",
   "metadata": {},
   "outputs": [
    {
     "name": "stdout",
     "output_type": "stream",
     "text": [
      "The video is about a \"Fastest to 50\" competition on the rooftop of Red Bull in London, featuring Ben Stokes. The participants are trying to score 50 runs as quickly as possible, and the video includes Ben Stokes, Broad, and Jimmy.\n"
     ]
    }
   ],
   "source": [
    "# Generation\n",
    "answer = llm.invoke(final_prompt)\n",
    "print(answer.content)"
   ]
  },
  {
   "cell_type": "code",
   "execution_count": 29,
   "id": "94a87b6f",
   "metadata": {},
   "outputs": [],
   "source": [
    "from langchain_core.runnables import RunnableParallel, RunnablePassthrough, RunnableLambda\n",
    "from langchain_core.output_parsers import StrOutputParser"
   ]
  },
  {
   "cell_type": "code",
   "execution_count": 30,
   "id": "b075e77a",
   "metadata": {},
   "outputs": [],
   "source": [
    "def format_docs(retrieved_docs):\n",
    "  context_text = \"\\n\\n\".join(doc.page_content for doc in retrieved_docs)\n",
    "  return context_text"
   ]
  },
  {
   "cell_type": "code",
   "execution_count": 31,
   "id": "454c586d",
   "metadata": {},
   "outputs": [],
   "source": [
    "parallel_chain = RunnableParallel({\n",
    "    'context': retriever | RunnableLambda(format_docs),\n",
    "    'question': RunnablePassthrough()\n",
    "})"
   ]
  },
  {
   "cell_type": "code",
   "execution_count": 32,
   "id": "0976e5d8",
   "metadata": {},
   "outputs": [
    {
     "data": {
      "text/plain": [
       "{'context': \"one yeah let's trade it cover straight it's okay no one in my team is stopping that that's full let's go two there yeah oh you cover one one it's dropped before him oh four four ones easy that's big that's big that's huge then how far is that gone doesn't matter it's only six in it what's the biggest six you've ever hit Ben I reckon the one I hit last year at Trent Bridge off bracewell yeah the one that was nowhere near the pitch of the ball there goes far 120 meters 130 definitely over 100. seriously good shot I really want to make him angry that's when he plays his best cricket oh no wonder why look at it it's got no dimples on it [Music] oh there we go okay that's the biggest things ever 18 balls for Ben Stokes fastest to 50. this man is a legend yeah time for us to give it a go I'm worried and that's because that is seriously impressive on this balls are flying everywhere in the wind yeah skidding on some of them are full so yeah that's impressive he has made that look very easy\\n\\nwell I've never been asked to do a net on top of a roof before oh there we go who doesn't come in here oh wow straight in it's full I really want to make him angry as many places that's good yet that will make him angry yes guys welcome back to the channel today we're filming a very special episode of fastest to 50 with the one and only Ben Stokes that's right we're on the rooftop of Red Bull here in London what'd you make of this uh well I've never been us to do a net on top of a roof before so yeah move for a treat I think fantastic pretty confident uh yeah well it's what is it you know it should be taking this on I should be taking this Victory home against you too so I did see your efforts last time against broady so I'm not too worried now fair enough fair enough all right good luck Cheers Cheers right Ben is up there to the crease to score 50 as quickly as possible will be deciding the scores based on a theoretical field which we discussed beforehand our four fielders outs are\\n\\nsend it oh that's a shame it's another pretty Cover Drive for one wind is up oh that's nice say that to finish the game yeah take that hold on enjoying the little Scoops as well looks good so much your time really appreciate it and then best of luck in the rest of the ashes appreciate it a lot cheers and congratulations thank you winner so there we have it Ben moves to second place in the fastest to 50 overall leaderboard comment below with which player you want to see take on this challenge next thank you\\n\\nCheers Cheers right Ben is up there to the crease to score 50 as quickly as possible will be deciding the scores based on a theoretical field which we discussed beforehand our four fielders outs are long on deep Square Third Man and Deep Cover right here we go full one fastest to 50 States yes one that's four oh three balls come yeah five on the board shot six six yeah [Music] there's a bit of moving on this rooftop it's very windy would you give him that one or two I'll take two yeah that's great coaching that is what landmark is that hit they're taking out the crane one one just a one for that one is it moving a bit yeah okay it's interesting and we give it a go off shot oh it's gone I'll let you I'll let you be just let's go to the point forgivable yeah shots or again I'll take one take one yeah let's trade it cover straight it's okay no one in my team is stopping that that's full let's go two there yeah oh you cover one one it's dropped before him oh four four ones easy that's big\",\n",
       " 'question': 'who is Ben Stokes?'}"
      ]
     },
     "execution_count": 32,
     "metadata": {},
     "output_type": "execute_result"
    }
   ],
   "source": [
    "parallel_chain.invoke('who is Ben Stokes?')"
   ]
  },
  {
   "cell_type": "code",
   "execution_count": 33,
   "id": "4cbb59c3",
   "metadata": {},
   "outputs": [],
   "source": [
    "parser = StrOutputParser()"
   ]
  },
  {
   "cell_type": "code",
   "execution_count": 34,
   "id": "a6843253",
   "metadata": {},
   "outputs": [],
   "source": [
    "main_chain = parallel_chain | prompt | llm | parser"
   ]
  },
  {
   "cell_type": "code",
   "execution_count": 36,
   "id": "a5597e9b",
   "metadata": {},
   "outputs": [
    {
     "data": {
      "text/plain": [
       "'Ben Stokes is participating in a challenge called \"fastest to 50\" on the rooftop of Red Bull in London. He is trying to score 50 runs as quickly as possible. He is also mentioned hitting a six last year at Trent Bridge off Bracewell. He moves to second place in the fastest to 50 overall leaderboard.'"
      ]
     },
     "execution_count": 36,
     "metadata": {},
     "output_type": "execute_result"
    }
   ],
   "source": [
    "main_chain.invoke('Who is Ben Stokes?')"
   ]
  }
 ],
 "metadata": {
  "kernelspec": {
   "display_name": "base",
   "language": "python",
   "name": "python3"
  },
  "language_info": {
   "codemirror_mode": {
    "name": "ipython",
    "version": 3
   },
   "file_extension": ".py",
   "mimetype": "text/x-python",
   "name": "python",
   "nbconvert_exporter": "python",
   "pygments_lexer": "ipython3",
   "version": "3.12.7"
  }
 },
 "nbformat": 4,
 "nbformat_minor": 5
}
