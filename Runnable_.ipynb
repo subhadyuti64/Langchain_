{
 "cells": [
  {
   "cell_type": "code",
   "execution_count": 30,
   "id": "4667430b",
   "metadata": {},
   "outputs": [],
   "source": [
    "from langchain_google_genai import ChatGoogleGenerativeAI\n",
    "from langchain_core.prompts import PromptTemplate\n",
    "from langchain_core.output_parsers import StrOutputParser\n",
    "from dotenv import load_dotenv\n",
    "from langchain.schema.runnable import RunnableSequence,RunnableParallel, RunnablePassthrough, RunnableLambda, RunnableBranch\n",
    "import os"
   ]
  },
  {
   "cell_type": "code",
   "execution_count": 2,
   "id": "74648781",
   "metadata": {},
   "outputs": [
    {
     "data": {
      "text/plain": [
       "True"
      ]
     },
     "execution_count": 2,
     "metadata": {},
     "output_type": "execute_result"
    }
   ],
   "source": [
    "load_dotenv()"
   ]
  },
  {
   "cell_type": "code",
   "execution_count": 5,
   "id": "dd61a3ae",
   "metadata": {},
   "outputs": [],
   "source": [
    "model = ChatGoogleGenerativeAI(\n",
    "    model=\"gemini-2.0-flash\",\n",
    "    api_key=os.getenv(\"GOOGLE_API_KEY\")\n",
    ")"
   ]
  },
  {
   "cell_type": "code",
   "execution_count": 7,
   "id": "7d97cc64",
   "metadata": {},
   "outputs": [],
   "source": [
    "parser = StrOutputParser()"
   ]
  },
  {
   "cell_type": "code",
   "execution_count": 23,
   "id": "96229ba7",
   "metadata": {},
   "outputs": [
    {
     "name": "stdout",
     "output_type": "stream",
     "text": [
      "Your explanation of \"Silly Point\" is accurate and well-described. Here's a breakdown of why it's a good explanation and some minor points to emphasize:\n",
      "\n",
      "*   **Position:** It clearly states it's a fielding position on the leg side for a right-handed batsman (or off-side for a left-handed batsman).  The key is understanding it's *very close* to the batsman.\n",
      "\n",
      "*   **Risk:** You emphasize the inherent danger. The fielder is extremely close and has little time to react to a powerfully struck ball.\n",
      "\n",
      "*   **Etymology:** The explanation of the name's origin is also correct. The \"silly\" part refers to the perceived foolishness or risk associated with fielding in such a dangerous spot.\n",
      "\n",
      "**Key takeaways and potential additions for extra clarity:**\n",
      "\n",
      "*   **Purpose:** Briefly mention the purpose. Silly Point is generally positioned to catch a mis-timed flick, a glove-edge, or a bat-pad catch. It's a position typically used when the bowler is trying to cramp the batsman for room and induce a mistake.\n",
      "\n",
      "*   **Situation:** The position is more common in certain situations:\n",
      "    *   When a batsman is trying to play aggressive shots, but not succeeding.\n",
      "    *   Against a tail-ender who might be less technically sound.\n",
      "    *   When the bowler is bowling with a lot of spin or movement, increasing the chances of a deflection.\n",
      "    *   When a team is trying to force a wicket and take a risk.\n",
      "\n",
      "*   **Gear:** While not always, a fielder at Silly Point often wears a helmet, shin guards, and sometimes a chest protector for safety.\n",
      "\n",
      "**Revised Explanation (incorporating these suggestions):**\n",
      "\n",
      "\"Silly Point is a fielding position on the leg side, extremely close to a right-handed batsman (or off-side for a left-handed batsman). The fielder is positioned to catch a mis-timed flick, a glove-edge, or a bat-pad catch, typically when the bowler is cramping the batsman for room and trying to induce an error. It's a notoriously risky position as the fielder is very close to the bat and vulnerable to being hit, often wearing protective gear like a helmet, shin guards, and sometimes a chest protector. The name is thought to be derived from the perceived \"silly\" or risky nature of standing so close to the bat.\"\n",
      "\n",
      "In essence, your original explanation was excellent. The additions simply provide a bit more context and paint a fuller picture of the role and circumstances surrounding the Silly Point position in cricket.\n"
     ]
    }
   ],
   "source": [
    "#  Runnable Sequence -> A sequence of chain of Runnables that execute  each step one after another. Output of one step is the input of the next step.\n",
    "\n",
    "prompt1 = PromptTemplate(\n",
    "    template='Write a term specific about {topic}',\n",
    "    input_variables=['topic']\n",
    ")\n",
    "\n",
    "prompt2 = PromptTemplate(\n",
    "    template='Explain the following term - {text}',\n",
    "    input_variables=['text']\n",
    ")\n",
    "\n",
    "chain = RunnableSequence(prompt1, model, parser, prompt2, model, parser)\n",
    "print(chain.invoke({'topic':'Cricket'}))"
   ]
  },
  {
   "cell_type": "code",
   "execution_count": null,
   "id": "4742c00f",
   "metadata": {},
   "outputs": [
    {
     "name": "stdout",
     "output_type": "stream",
     "text": [
      "Okay, here are a few LinkedIn post options for Generative AI, ranging from beginner-friendly to more thought-provoking.  Choose the one that best suits your audience and your personal brand:\n",
      "\n",
      "**Option 1:  Beginner-Friendly & Enthusiastic**\n",
      "\n",
      "**Headline:** Generative AI is Changing the Game! 🚀\n",
      "\n",
      "**Body:**\n",
      "\n",
      "Just diving into the world of Generative AI, and I'm blown away by the possibilities! From creating stunning images to writing compelling content, it's a game-changer for creativity and productivity.\n",
      "\n",
      "What are some of the most exciting applications of Generative AI you've seen? Let's discuss! #GenerativeAI #AI #ArtificialIntelligence #Innovation #FutureofWork\n",
      "\n",
      "**Option 2:  Industry-Specific Focus (Example: Marketing)**\n",
      "\n",
      "**Headline:** Generative AI: The Future of Marketing is Here 🤖\n",
      "\n",
      "**Body:**\n",
      "\n",
      "As marketers, we're always looking for ways to create more engaging content and streamline our workflows. Generative AI is offering incredible opportunities to do just that!\n",
      "\n",
      "Imagine:\n",
      "*   Generating personalized ad copy at scale.\n",
      "*   Creating unique visuals for social media in minutes.\n",
      "*   Brainstorming fresh campaign ideas with AI assistance.\n",
      "\n",
      "What are your thoughts on how Generative AI will impact marketing in the next few years? Share your predictions in the comments! #GenerativeAI #Marketing #AIinMarketing #ContentMarketing #DigitalMarketing #Innovation\n",
      "\n",
      "**Option 3:  Thought-Provoking & Balanced**\n",
      "\n",
      "**Headline:** Generative AI: Promise and Responsibility ⚖️\n",
      "\n",
      "**Body:**\n",
      "\n",
      "Generative AI is rapidly advancing, offering immense potential across various industries. However, with great power comes great responsibility. As we explore its capabilities, we must also consider the ethical implications:\n",
      "\n",
      "*   Bias in algorithms\n",
      "*   Copyright and ownership\n",
      "*   Potential job displacement\n",
      "\n",
      "Let's have an open conversation about how we can harness the power of Generative AI responsibly and ensure it benefits everyone. #GenerativeAI #AIethics #ArtificialIntelligence #ResponsibleAI #Innovation #FutureofAI\n",
      "\n",
      "**Option 4:  Sharing a Specific Example/Resource**\n",
      "\n",
      "**Headline:** Cool Generative AI Tool I Discovered! 💡\n",
      "\n",
      "**Body:**\n",
      "\n",
      "I recently came across [Name of Tool/Platform] and was impressed by its ability to [Specific Function, e.g., \"generate realistic images from text prompts\"]. It's a great example of how Generative AI is becoming more accessible and user-friendly.\n",
      "\n",
      "Check it out here: [Link to Tool/Platform]\n",
      "\n",
      "What are some of your favorite Generative AI tools or resources?  #GenerativeAI #AItools #ArtificialIntelligence #Innovation #Tech #MachineLearning\n",
      "\n",
      "**Option 5:  Question Focused**\n",
      "\n",
      "**Headline:** What problem can Generative AI solve for you?\n",
      "\n",
      "**Body:**\n",
      "\n",
      "I'm curious, with all the buzz around Generative AI, what is one problem you wish it could solve for you in your work or personal life?\n",
      "\n",
      "Let's brainstorm some real-world applications and see where this technology can truly make a difference. #GenerativeAI #AI #ProblemSolving #Innovation #FutureofWork\n",
      "\n",
      "**Key Considerations Before Posting:**\n",
      "\n",
      "*   **Your Audience:** Who are you trying to reach with this post? Tailor the language and content to their level of understanding and interests.\n",
      "*   **Your Goal:** What do you want to achieve with this post?  (e.g., spark discussion, share knowledge, promote your expertise)\n",
      "*   **Visuals:**  Include a relevant image or video to make your post more engaging.  You could use an image generated by AI!\n",
      "*   **Hashtags:** Use relevant hashtags to increase the visibility of your post.\n",
      "*   **Engagement:** Be prepared to respond to comments and engage in the conversation.\n",
      "*   **Authenticity:**  Make sure the post reflects your genuine thoughts and opinions.\n",
      "\n",
      "**To Customize Further:**\n",
      "\n",
      "*   **Replace bracketed information** with specific details.\n",
      "*   **Add your personal experiences** or anecdotes.\n",
      "*   **Mention specific people or companies** if relevant (and with their permission, if necessary).\n",
      "*   **Proofread carefully** before posting.\n",
      "\n",
      "Good luck! Let me know if you'd like me to refine any of these options.\n",
      "Okay, here are a few options for a Twitter post about Generative AI, catering to different angles and target audiences:\n",
      "\n",
      "**Option 1 (General Awareness/Intrigue):**\n",
      "\n",
      "> Generative AI is changing the game! 🤯 From creating stunning art to writing code, it's pushing the boundaries of what's possible. What are you most excited to see Generative AI achieve? #GenerativeAI #AI #Innovation #FutureTech\n",
      "\n",
      "**Option 2 (Focus on Creative Applications):**\n",
      "\n",
      "> Unleash your inner artist with Generative AI! ✨ Imagine creating unique images, music, and stories with just a few prompts. The creative possibilities are endless! #GenerativeAI #AIArt #CreativeAI #Innovation #DigitalArt\n",
      "\n",
      "**Option 3 (Business/Industry Focused):**\n",
      "\n",
      "> Generative AI is revolutionizing industries! ⚙️ From automating tasks to creating personalized experiences, it's offering businesses a competitive edge. How can your company leverage the power of AI? #GenerativeAI #AIinBusiness #Innovation #Automation #Tech\n",
      "\n",
      "**Option 4 (Slightly More Cautious/Thought-Provoking):**\n",
      "\n",
      "> Generative AI is powerful, but it's important to discuss its ethical implications. 🤔 How do we ensure responsible development and use of this technology? #GenerativeAI #AIethics #ResponsibleAI #AI #FutureofAI\n",
      "\n",
      "**Option 5 (Simple & Direct):**\n",
      "\n",
      "> Generative AI: Creating something from nothing. Pretty cool, right? 😎 #GenerativeAI #AI #MachineLearning\n",
      "\n",
      "**Key Considerations When Choosing/Modifying:**\n",
      "\n",
      "*   **Your Target Audience:** Who are you trying to reach with this tweet?\n",
      "*   **Your Goal:** What do you want people to do after seeing the tweet (e.g., learn more, engage in conversation, visit a website)?\n",
      "*   **Your Tone:** Do you want to be excited, informative, cautious, etc.?\n",
      "*   **Relevant Hashtags:** Use hashtags that will help people find your tweet.\n",
      "*   **Visuals:**  A tweet with an image or video will get more engagement. Consider adding an AI-generated image or a short video demonstrating Generative AI.\n",
      "\n",
      "**To make it even better, you could add:**\n",
      "\n",
      "*   **A link to a relevant article or resource.**\n",
      "*   **A question to encourage engagement.**\n",
      "*   **A mention of a specific Generative AI tool or platform.**\n",
      "\n",
      "I hope these options help! Let me know if you'd like me to refine any of them or create something different.\n"
     ]
    }
   ],
   "source": [
    "# Runnable Parallel -> Run multiple sequential chains at the same time -> Output is a dictionary\n",
    "\n",
    "prompt1 = PromptTemplate(\n",
    "    template='Geneate a linkedin post for the following {topic}',\n",
    "    input_variables=['topic']\n",
    ")\n",
    "\n",
    "prompt2 = PromptTemplate(\n",
    "    template='Generate a twitter post for the following {topic}',\n",
    "    input_variables=['topic']\n",
    ")\n",
    "\n",
    "chain = RunnableParallel(\n",
    "    {\n",
    "        'linkedin': RunnableSequence(prompt1,model,parser),\n",
    "        'twitter': RunnableSequence(prompt2,model,parser)\n",
    "    }\n",
    ")\n",
    "\n",
    "result = chain.invoke({'topic':\"Generative AI\"})\n",
    "\n",
    "print(result['linkedin'])\n",
    "print(result['twitter'])"
   ]
  },
  {
   "cell_type": "code",
   "execution_count": 25,
   "id": "fb370177",
   "metadata": {},
   "outputs": [
    {
     "name": "stdout",
     "output_type": "stream",
     "text": [
      "**Googly**\n",
      "\n",
      "A googly is a type of delivery bowled by a right-arm leg spin bowler. It spins in the opposite direction to a normal leg break, turning from off to leg (right to left from the bowler's perspective). This makes it particularly deceptive, as it can catch batsmen off guard and lead to wickets.\n",
      "Okay, here's a breakdown of the term \"Googly\" in cricket, based on your definition:\n",
      "\n",
      "**What a Googly Is:**\n",
      "\n",
      "*   **A Deceptive Leg Spin Delivery:** A googly is a special type of ball bowled by a leg-spin bowler (a right-handed bowler who usually makes the ball spin from leg to off, i.e., from the batsman's leg side to the off side).\n",
      "\n",
      "*   **Reverse Spin:**  The key is that the googly spins *in the opposite direction* compared to the bowler's standard leg break. Instead of spinning from leg to off, it spins from off to leg (right to left from the bowler's perspective).\n",
      "\n",
      "*   **Deception is Key:** This reverse spin is what makes it so effective. The bowler's action might look very similar to a normal leg break, leading the batsman to anticipate the ball turning one way, only for it to turn the other.\n",
      "\n",
      "**Why it's Effective:**\n",
      "\n",
      "*   **Catches Batsmen Off Guard:** Batsmen generally read the bowler's wrist and fingers to anticipate the direction of spin. Because the googly looks similar to a leg break, batsmen can be fooled into expecting the ball to turn away from them (leg break) when it's actually turning into them (googly).\n",
      "\n",
      "*   **Leads to Wickets:** This deception can cause batsmen to:\n",
      "    *   Misjudge the line of the ball, leading to edges that are caught by fielders.\n",
      "    *   Play down the wrong line and get bowled (the ball hitting the stumps).\n",
      "    *   Get trapped LBW (Leg Before Wicket) if the ball hits their leg in front of the stumps when they aren't offering a shot.\n",
      "\n",
      "**In Simple Terms:**\n",
      "\n",
      "Imagine a right-handed bowler who typically makes the ball spin *away* from a right-handed batsman. A googly is when that same bowler makes the ball spin *into* the right-handed batsman, but without making it obvious from their bowling action. It's a surprise!\n"
     ]
    }
   ],
   "source": [
    "# Runnable Passthrough -> Simply returns input as output without modifying it\n",
    "\n",
    "prompt1 = PromptTemplate(\n",
    "    template='Write a term specific about {topic}',\n",
    "    input_variables=['topic']\n",
    ")\n",
    "\n",
    "prompt2 = PromptTemplate(\n",
    "    template='Explain the following term - {text}',\n",
    "    input_variables=['text']\n",
    ")\n",
    "\n",
    "chain = RunnableSequence(prompt1, model, parser)\n",
    "\n",
    "parallel_chain = RunnableParallel({\n",
    "    'topic': RunnablePassthrough(),\n",
    "    'explanation': RunnableSequence(prompt2, model, parser)\n",
    "})\n",
    "\n",
    "final_chain = RunnableSequence(chain, parallel_chain)\n",
    "\n",
    "result = final_chain.invoke({'topic':'cricket'})\n",
    "\n",
    "print(result['topic'])\n",
    "print(result['explanation'])"
   ]
  },
  {
   "cell_type": "code",
   "execution_count": 29,
   "id": "4e709c1f",
   "metadata": {},
   "outputs": [
    {
     "name": "stdout",
     "output_type": "stream",
     "text": [
      "Why did the Apple product get a flat tire?\n",
      "\n",
      "Because it had no Windows! \n",
      " word count - 14\n"
     ]
    }
   ],
   "source": [
    "# RunnableLambda -> Wraps any Python function as runnable\n",
    "\n",
    "def word_count(text):\n",
    "    return len(text.split())\n",
    "\n",
    "prompt = PromptTemplate(\n",
    "    template='Write a joke about {topic}',\n",
    "    input_variables=['topic']\n",
    ")\n",
    "\n",
    "chain = RunnableSequence(prompt, model, parser)\n",
    "\n",
    "parallel_chain = RunnableParallel({\n",
    "    'joke': RunnablePassthrough(),\n",
    "    # 'word_count': RunnableLambda(word_count)\n",
    "    'word_count': RunnableLambda(lambda x: len(x.split()))\n",
    "})\n",
    "\n",
    "final_chain = RunnableSequence(chain, parallel_chain)\n",
    "\n",
    "result = final_chain.invoke({'topic':'Apple'})\n",
    "\n",
    "final_result = \"\"\"{} \\n word count - {}\"\"\".format(result['joke'], result['word_count'])\n",
    "\n",
    "print(final_result)"
   ]
  },
  {
   "cell_type": "code",
   "execution_count": 31,
   "id": "a095a80f",
   "metadata": {},
   "outputs": [
    {
     "name": "stdout",
     "output_type": "stream",
     "text": [
      "The IPL 2025 season saw the Mumbai Indians (MI) win their 7th title, defeating the Gujarat Titans (GT) in the final. Shivam Dube (CSK) won the Orange Cap, and Jasprit Bumrah (MI) took home both the Purple Cap and MVP awards. Sai Sudharsan (GT) was named Emerging Player. MI and GT were the top teams, while RCB struggled again. The season highlighted trends like the increased use of data analytics, the importance of all-rounders, aggressive batting, and spin bowling. Hypothetical controversies included umpiring errors and code of conduct violations. The IPL 2025 continued to have a significant economic impact, developed cricket talent, expanded its global reach, and engaged fans effectively. The report emphasizes the need to address issues like umpiring and over rates for the league's future success.\n"
     ]
    }
   ],
   "source": [
    "# Runnable Branch -> route the input to different branches based on the conditions\n",
    "\n",
    "prompt1 = PromptTemplate(\n",
    "    template='Write a detailed report on {topic}',\n",
    "    input_variables=['topic']\n",
    ")\n",
    "\n",
    "prompt2 = PromptTemplate(\n",
    "    template='Summarize the following text \\n {text}',\n",
    "    input_variables=['text']\n",
    ")\n",
    "\n",
    "report_gen_chain = prompt1 | model | parser\n",
    "\n",
    "branch_chain = RunnableBranch(\n",
    "    (lambda x: len(x.split())>300, prompt2 | model | parser),\n",
    "    RunnablePassthrough()\n",
    ")\n",
    "\n",
    "final_chain = RunnableSequence(report_gen_chain, branch_chain)\n",
    "\n",
    "print(final_chain.invoke({'topic':'IPL 2025'}))"
   ]
  },
  {
   "cell_type": "code",
   "execution_count": 32,
   "id": "36fb8ab5",
   "metadata": {},
   "outputs": [],
   "source": [
    "# LCEL -> Langchain Expression Language\n",
    "# Function chaining: chain1 | chain2 | chain3\n",
    "# Multiple outputs: output in dictionary"
   ]
  }
 ],
 "metadata": {
  "kernelspec": {
   "display_name": "base",
   "language": "python",
   "name": "python3"
  },
  "language_info": {
   "codemirror_mode": {
    "name": "ipython",
    "version": 3
   },
   "file_extension": ".py",
   "mimetype": "text/x-python",
   "name": "python",
   "nbconvert_exporter": "python",
   "pygments_lexer": "ipython3",
   "version": "3.12.7"
  }
 },
 "nbformat": 4,
 "nbformat_minor": 5
}
