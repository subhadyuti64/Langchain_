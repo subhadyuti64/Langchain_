{
 "cells": [
  {
   "cell_type": "code",
   "execution_count": null,
   "id": "cc128331",
   "metadata": {},
   "outputs": [],
   "source": [
    "# Document Loader \n",
    "from langchain_communit"
   ]
  },
  {
   "cell_type": "code",
   "execution_count": null,
   "id": "6408b786",
   "metadata": {},
   "outputs": [],
   "source": [
    "# Text Loader\n"
   ]
  }
 ],
 "metadata": {
  "language_info": {
   "name": "python"
  }
 },
 "nbformat": 4,
 "nbformat_minor": 5
}
