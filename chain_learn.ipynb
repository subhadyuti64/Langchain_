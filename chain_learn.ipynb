{
 "cells": [
  {
   "cell_type": "code",
   "execution_count": 22,
   "id": "4a281d93",
   "metadata": {},
   "outputs": [],
   "source": [
    "from langchain_google_genai import ChatGoogleGenerativeAI\n",
    "from dotenv import load_dotenv\n",
    "from langchain_core.prompts import PromptTemplate\n",
    "import os\n",
    "from langchain_core.output_parsers import StrOutputParser\n",
    "from langchain.schema.runnable import RunnableParallel, RunnableBranch, RunnableLambda\n",
    "from langchain_core.output_parsers import PydanticOutputParser\n",
    "from pydantic import BaseModel, Field\n",
    "from typing import Literal\n"
   ]
  },
  {
   "cell_type": "code",
   "execution_count": 2,
   "id": "5e96c299",
   "metadata": {},
   "outputs": [
    {
     "data": {
      "text/plain": [
       "True"
      ]
     },
     "execution_count": 2,
     "metadata": {},
     "output_type": "execute_result"
    }
   ],
   "source": [
    "load_dotenv()"
   ]
  },
  {
   "cell_type": "code",
   "execution_count": 3,
   "id": "c1db40bf",
   "metadata": {},
   "outputs": [],
   "source": [
    "model = ChatGoogleGenerativeAI(\n",
    "    model=\"gemini-2.0-flash\",\n",
    "    api_key=os.getenv(\"GOOGLE_API_KEY\")\n",
    ")"
   ]
  },
  {
   "cell_type": "code",
   "execution_count": 4,
   "id": "435cb203",
   "metadata": {},
   "outputs": [],
   "source": [
    "prompt = PromptTemplate(\n",
    "    template = \"Tell me 7 facts about {topic}\",\n",
    "    input_variables=['topic']\n",
    ")\n",
    "\n",
    "parser = StrOutputParser()"
   ]
  },
  {
   "cell_type": "code",
   "execution_count": 5,
   "id": "a5f2118b",
   "metadata": {},
   "outputs": [
    {
     "data": {
      "text/plain": [
       "\"Okay, here are 7 facts about Diabetic Retinopathy:\\n\\n1.  **It's a complication of diabetes:** Diabetic retinopathy is caused by high blood sugar levels damaging the blood vessels in the retina, the light-sensitive tissue at the back of the eye.  It's a direct result of diabetes and its impact on the circulatory system.\\n\\n2.  **Often has no early symptoms:** In the early stages, diabetic retinopathy may not cause any noticeable vision problems. People may not realize they have it until the condition is advanced.  This is why regular eye exams are so crucial for people with diabetes.\\n\\n3.  **It can lead to vision loss and blindness:** If left untreated, diabetic retinopathy can progress and cause significant vision loss, including blindness.  The damaged blood vessels can leak fluid and blood, or new, abnormal blood vessels can grow on the surface of the retina (proliferative diabetic retinopathy), which can lead to scarring and retinal detachment.\\n\\n4.  **There are different stages:** Diabetic retinopathy progresses through stages, generally categorized as mild, moderate, severe nonproliferative diabetic retinopathy (NPDR), and proliferative diabetic retinopathy (PDR).  Treatment strategies depend on the stage of the disease.\\n\\n5.  **Blood sugar control is key to prevention and management:**  Strict control of blood sugar, blood pressure, and cholesterol levels can significantly reduce the risk of developing diabetic retinopathy and slow its progression.  Lifestyle modifications (diet and exercise) and medication adherence are essential.\\n\\n6.  **Treatment options are available:** Treatments such as laser photocoagulation, injections of anti-VEGF medications, and vitrectomy surgery can help slow the progression of diabetic retinopathy, reduce swelling, and prevent further vision loss.  Treatment aims to preserve existing vision.\\n\\n7.  **Regular eye exams are vital for early detection:**  People with diabetes should have a comprehensive dilated eye exam at least once a year, or more frequently if recommended by their eye doctor. Early detection and treatment can significantly reduce the risk of vision loss.\""
      ]
     },
     "execution_count": 5,
     "metadata": {},
     "output_type": "execute_result"
    }
   ],
   "source": [
    "# Simple chain\n",
    "chain = prompt | model | parser\n",
    "\n",
    "chain.invoke('Diabetic Retinopathy')"
   ]
  },
  {
   "cell_type": "code",
   "execution_count": 6,
   "id": "84c2941c",
   "metadata": {},
   "outputs": [],
   "source": [
    "prompt2 = PromptTemplate(\n",
    "    template = \"Tell the most interesting out of all facts {facts}\",\n",
    "    input_variables=['facts']\n",
    ")"
   ]
  },
  {
   "cell_type": "code",
   "execution_count": 7,
   "id": "f9b60a38",
   "metadata": {},
   "outputs": [
    {
     "data": {
      "text/plain": [
       "\"Out of those facts, the most interesting is the **Rath Yatra Festival**.\\n\\nHere's why:\\n\\n*   **Scale and Spectacle:** The sheer scale of the Rath Yatra, attracting millions of devotees, is mind-boggling. It's one of the largest religious gatherings in the world.\\n*   **Cultural Significance:** The festival encapsulates the deep religious and cultural significance of Lord Jagannath and the unique traditions of Odisha.\\n*   **Visual Impact:** The image of the massive, elaborately decorated chariots being pulled through the streets is incredibly striking and memorable.\\n*   **Unique Ritual:** The act of pulling the chariots is considered a sacred duty and a way to connect with the divine.\\n\\nWhile the other facts are interesting, the Rath Yatra is the most captivating because of its grandeur, cultural importance, and the powerful images it evokes.\""
      ]
     },
     "execution_count": 7,
     "metadata": {},
     "output_type": "execute_result"
    }
   ],
   "source": [
    "# Sequential Chain\n",
    "chain = prompt | model | parser | prompt2 | model | parser\n",
    "\n",
    "chain.invoke(\"Puri in Odisha\")"
   ]
  },
  {
   "cell_type": "code",
   "execution_count": 9,
   "id": "509a4dd1",
   "metadata": {},
   "outputs": [],
   "source": [
    "prompt1 = PromptTemplate(\n",
    "    template = \"Give the Batting stats of the {player} in all formats of Cricket\",\n",
    "    input_variables = ['player']\n",
    ")"
   ]
  },
  {
   "cell_type": "code",
   "execution_count": 10,
   "id": "38da3ced",
   "metadata": {},
   "outputs": [],
   "source": [
    "prompt2 = PromptTemplate(\n",
    "    template = \"Give the Bowling stats of the {player} in all formats of Cricket\",\n",
    "    input_variables = ['player']\n",
    ")"
   ]
  },
  {
   "cell_type": "code",
   "execution_count": 11,
   "id": "cd3b3f90",
   "metadata": {},
   "outputs": [],
   "source": [
    "prompt3 = PromptTemplate(\n",
    "    template = \"Merge the bowling stats -> {bowling} and batting stats -> {batting} and give in a tabular format\",\n",
    "    input_variables = ['bowling','batting']\n",
    ")"
   ]
  },
  {
   "cell_type": "code",
   "execution_count": 12,
   "id": "276824a3",
   "metadata": {},
   "outputs": [],
   "source": [
    "parser = StrOutputParser()"
   ]
  },
  {
   "cell_type": "code",
   "execution_count": 14,
   "id": "0f49a4a0",
   "metadata": {},
   "outputs": [],
   "source": [
    "# Parallel Chains\n",
    "chain = RunnableParallel(\n",
    "        {\n",
    "                'bowling' : prompt2 | model | parser,\n",
    "                'batting' : prompt1 | model | parser,\n",
    "        }\n",
    ")"
   ]
  },
  {
   "cell_type": "code",
   "execution_count": 15,
   "id": "43250bf1",
   "metadata": {},
   "outputs": [],
   "source": [
    "sec_chain = prompt3 | model | parser "
   ]
  },
  {
   "cell_type": "code",
   "execution_count": 16,
   "id": "eee560ee",
   "metadata": {},
   "outputs": [],
   "source": [
    "final_chain = chain | sec_chain"
   ]
  },
  {
   "cell_type": "code",
   "execution_count": 18,
   "id": "6764b3d6",
   "metadata": {},
   "outputs": [],
   "source": [
    "result = chain.invoke('Rohit Sharma')"
   ]
  },
  {
   "cell_type": "code",
   "execution_count": 21,
   "id": "61f3d5f3",
   "metadata": {},
   "outputs": [
    {
     "name": "stdout",
     "output_type": "stream",
     "text": [
      "Rohit Sharma is primarily known for his batting prowess. He is a part-time bowler, and his bowling statistics are not extensive. Here's a summary of his bowling stats across all formats:\n",
      "\n",
      "**Test Matches**\n",
      "\n",
      "*   **Matches:** 49\n",
      "*   **Innings Bowled:** 16\n",
      "*   **Balls Bowled:** 428\n",
      "*   **Runs Conceded:** 297\n",
      "*   **Wickets:** 0\n",
      "*   **Best Bowling:** 0/0\n",
      "*   **Average:** N/A\n",
      "*   **Economy:** 4.15\n",
      "*   **Strike Rate:** N/A\n",
      "*   **4 Wickets in an Innings:** 0\n",
      "*   **5 Wickets in an Innings:** 0\n",
      "*   **10 Wickets in a Match:** 0\n",
      "\n",
      "**One Day Internationals (ODIs)**\n",
      "\n",
      "*   **Matches:** 262\n",
      "*   **Innings Bowled:** 44\n",
      "*   **Balls Bowled:** 955\n",
      "*   **Runs Conceded:** 765\n",
      "*   **Wickets:** 8\n",
      "*   **Best Bowling:** 2/27\n",
      "*   **Average:** 95.62\n",
      "*   **Economy:** 4.80\n",
      "*   **Strike Rate:** 119.3\n",
      "*   **4 Wickets in an Innings:** 0\n",
      "*   **5 Wickets in an Innings:** 0\n",
      "\n",
      "**Twenty20 Internationals (T20Is)**\n",
      "\n",
      "*   **Matches:** 157\n",
      "*   **Innings Bowled:** 12\n",
      "*   **Balls Bowled:** 132\n",
      "*   **Runs Conceded:** 163\n",
      "*   **Wickets:** 1\n",
      "*   **Best Bowling:** 1/8\n",
      "*   **Average:** 163.00\n",
      "*   **Economy:** 7.40\n",
      "*   **Strike Rate:** 132.0\n",
      "*   **4 Wickets in an Innings:** 0\n",
      "*   **5 Wickets in an Innings:** 0\n",
      "\n",
      "**Indian Premier League (IPL)**\n",
      "\n",
      "*   **Matches:** 257\n",
      "*   **Innings Bowled:** 27\n",
      "*   **Balls Bowled:** 528\n",
      "*   **Runs Conceded:** 626\n",
      "*   **Wickets:** 15\n",
      "*   **Best Bowling:** 4/6\n",
      "*   **Average:** 41.73\n",
      "*   **Economy:** 7.11\n",
      "*   **Strike Rate:** 35.2\n",
      "*   **4 Wickets in an Innings:** 1\n",
      "*   **5 Wickets in an Innings:** 0\n",
      "\n",
      "**Key Points:**\n",
      "\n",
      "*   Rohit Sharma is primarily a batsman, and his bowling contributions are occasional.\n",
      "*   He bowls right-arm off-break.\n",
      "*   His best bowling figures are in the IPL, where he once took 4 wickets for 6 runs.\n",
      "*   He has never taken a wicket in Test matches.\n",
      "\n",
      "**Note:** Stats are accurate as of October 22, 2024. They are subject to change as he continues to play.\n"
     ]
    }
   ],
   "source": [
    "print(result['bowling'])"
   ]
  },
  {
   "cell_type": "code",
   "execution_count": 20,
   "id": "a95f1368",
   "metadata": {},
   "outputs": [
    {
     "name": "stdout",
     "output_type": "stream",
     "text": [
      "Okay, here's a summary of Rohit Sharma's batting statistics in all three major formats of international cricket (Tests, ODIs, and T20Is), as well as his IPL stats:\n",
      "\n",
      "**Rohit Sharma Batting Stats (As of November 5, 2023)**\n",
      "\n",
      "*   **Tests**\n",
      "\n",
      "    *   Matches: 54\n",
      "    *   Innings: 94\n",
      "    *   Not Outs: 6\n",
      "    *   Runs: 3762\n",
      "    *   Highest Score: 212\n",
      "    *   Average: 45.9\n",
      "    *   Strike Rate: 50.83\n",
      "    *   100s: 10\n",
      "    *   50s: 16\n",
      "    *   4s: 426\n",
      "    *   6s: 77\n",
      "\n",
      "*   **ODIs (One Day Internationals)**\n",
      "\n",
      "    *   Matches: 257\n",
      "    *   Innings: 249\n",
      "    *   Not Outs: 41\n",
      "    *   Runs: 10534\n",
      "    *   Highest Score: 264\n",
      "    *   Average: 49.69\n",
      "    *   Strike Rate: 90.02\n",
      "    *   100s: 31\n",
      "    *   50s: 55\n",
      "    *   4s: 961\n",
      "    *   6s: 301\n",
      "\n",
      "*   **T20Is (Twenty20 Internationals)**\n",
      "\n",
      "    *   Matches: 148\n",
      "    *   Innings: 140\n",
      "    *   Not Outs: 16\n",
      "    *   Runs: 3853\n",
      "    *   Highest Score: 118\n",
      "    *   Average: 30.25\n",
      "    *   Strike Rate: 139.24\n",
      "    *   100s: 4\n",
      "    *   50s: 29\n",
      "    *   4s: 347\n",
      "    *   6s: 182\n",
      "\n",
      "*   **IPL (Indian Premier League)**\n",
      "\n",
      "    *   Matches: 243\n",
      "    *   Innings: 238\n",
      "    *   Not Outs: 30\n",
      "    *   Runs: 6211\n",
      "    *   Highest Score: 109*\n",
      "    *   Average: 29.86\n",
      "    *   Strike Rate: 129.85\n",
      "    *   100s: 2\n",
      "    *   50s: 42\n",
      "    *   4s: 550\n",
      "    *   6s: 257\n",
      "\n",
      "**Key Points to Note:**\n",
      "\n",
      "*   **Highest Scores:** Rohit Sharma holds the record for the highest individual score in ODI cricket (264).\n",
      "*   **Multiple Formats:** He is one of the few players to have scored centuries in all three formats of international cricket.\n",
      "*   **Leadership:** He has been a successful captain for both India and the Mumbai Indians in the IPL.\n",
      "\n",
      "I hope this is helpful!\n"
     ]
    }
   ],
   "source": [
    "print(result['batting'])"
   ]
  },
  {
   "cell_type": "code",
   "execution_count": 23,
   "id": "2645cd6c",
   "metadata": {},
   "outputs": [],
   "source": [
    "class Feedback(BaseModel):\n",
    "\n",
    "    sentiment: Literal['positive', 'negative'] = Field(description='Give the sentiment of the feedback')"
   ]
  },
  {
   "cell_type": "code",
   "execution_count": 24,
   "id": "0c496945",
   "metadata": {},
   "outputs": [],
   "source": [
    "parser2 = PydanticOutputParser(pydantic_object=Feedback)"
   ]
  },
  {
   "cell_type": "code",
   "execution_count": 25,
   "id": "8eedd659",
   "metadata": {},
   "outputs": [],
   "source": [
    "prompt1 = PromptTemplate(\n",
    "    template='Classify the sentiment of the following feedback text into postive or negative \\n {feedback} \\n {format_instruction}',\n",
    "    input_variables=['feedback'],\n",
    "    partial_variables={'format_instruction':parser2.get_format_instructions()}\n",
    ")"
   ]
  },
  {
   "cell_type": "code",
   "execution_count": 26,
   "id": "070c54d7",
   "metadata": {},
   "outputs": [],
   "source": [
    "classifier_chain = prompt1 | model | parser2"
   ]
  },
  {
   "cell_type": "code",
   "execution_count": 32,
   "id": "78416ad1",
   "metadata": {},
   "outputs": [],
   "source": [
    "prompt2 = PromptTemplate(\n",
    "    template='Write a single appropriate response to this positive feedback \\n {feedback}',\n",
    "    input_variables=['feedback']\n",
    ")"
   ]
  },
  {
   "cell_type": "code",
   "execution_count": 33,
   "id": "e6ef4036",
   "metadata": {},
   "outputs": [],
   "source": [
    "prompt3 = PromptTemplate(\n",
    "    template='Write a single appropriate response to this negative feedback \\n {feedback}',\n",
    "    input_variables=['feedback']\n",
    ")\n"
   ]
  },
  {
   "cell_type": "code",
   "execution_count": 35,
   "id": "e35290ec",
   "metadata": {},
   "outputs": [],
   "source": [
    "branch_chain = RunnableBranch(\n",
    "    (lambda x:x.sentiment == 'positive', prompt2 | model | parser),\n",
    "    (lambda x:x.sentiment == 'negative', prompt3 | model | parser),\n",
    "    RunnableLambda(lambda x: \"could not find sentiment\")\n",
    ")"
   ]
  },
  {
   "cell_type": "code",
   "execution_count": 36,
   "id": "d1ea642c",
   "metadata": {},
   "outputs": [],
   "source": [
    "chain = classifier_chain | branch_chain"
   ]
  },
  {
   "cell_type": "code",
   "execution_count": 39,
   "id": "26867c7b",
   "metadata": {},
   "outputs": [
    {
     "name": "stdout",
     "output_type": "stream",
     "text": [
      "Thank you for your positive feedback!\n"
     ]
    }
   ],
   "source": [
    "print(chain.invoke({'feedback': 'This is a wonderful phone'}))"
   ]
  },
  {
   "cell_type": "code",
   "execution_count": 41,
   "id": "3c76f7cd",
   "metadata": {},
   "outputs": [
    {
     "name": "stdout",
     "output_type": "stream",
     "text": [
      "\"I'm sorry to hear you had a negative experience. Could you please tell me more about what happened so I can understand how we can improve?\"\n"
     ]
    }
   ],
   "source": [
    "print(chain.invoke({'feedback': 'This is a horrible phone'}))"
   ]
  }
 ],
 "metadata": {
  "kernelspec": {
   "display_name": "base",
   "language": "python",
   "name": "python3"
  },
  "language_info": {
   "codemirror_mode": {
    "name": "ipython",
    "version": 3
   },
   "file_extension": ".py",
   "mimetype": "text/x-python",
   "name": "python",
   "nbconvert_exporter": "python",
   "pygments_lexer": "ipython3",
   "version": "3.12.7"
  }
 },
 "nbformat": 4,
 "nbformat_minor": 5
}
